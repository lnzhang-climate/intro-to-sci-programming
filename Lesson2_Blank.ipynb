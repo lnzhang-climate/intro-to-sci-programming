{
 "cells": [
  {
   "cell_type": "markdown",
   "id": "303cbd4a-dff6-4995-a6d6-30a117b452e8",
   "metadata": {},
   "source": [
    "Intro to Scientific Programming, developed by Lily N. Zhang (lilynzhang.com/teaching/)"
   ]
  },
  {
   "cell_type": "markdown",
   "id": "d299f3ce-ccad-41a0-8dc4-13dc19634a0d",
   "metadata": {},
   "source": [
    "## Lesson Two"
   ]
  },
  {
   "cell_type": "markdown",
   "id": "d6c3cdaa-ed74-4278-b2e8-df63963cc992",
   "metadata": {},
   "source": [
    "# Arrays"
   ]
  },
  {
   "cell_type": "markdown",
   "id": "3a692f96-af09-436a-95d5-28fc65e2203d",
   "metadata": {},
   "source": [
    "Today we'll be learning about **arrays**, which are essential to scientific computing. Arrays are data structures that store items (typically) of the same data type. For example, this array stores integers: "
   ]
  },
  {
   "cell_type": "code",
   "execution_count": null,
   "id": "72be32a0-1fd4-4308-9035-3460728b8206",
   "metadata": {},
   "outputs": [],
   "source": []
  },
  {
   "cell_type": "markdown",
   "id": "fae753b2-0151-494b-9b3d-7edc9ad6b8e9",
   "metadata": {},
   "source": [
    "and this array can store strings:"
   ]
  },
  {
   "cell_type": "code",
   "execution_count": null,
   "id": "1dca8d9d-13b1-4ed5-a8e8-99b67b4affec",
   "metadata": {},
   "outputs": [],
   "source": []
  },
  {
   "cell_type": "markdown",
   "id": "c1341baf-9f26-4ea6-a421-e1d00358c24d",
   "metadata": {},
   "source": [
    "(As a reminder, strings are sequences of characters that represent text; they're enclosed in quotes to distinguish them from other types of data.)"
   ]
  },
  {
   "cell_type": "markdown",
   "id": "86c9599a-a77b-4674-ba74-37c06de7fe43",
   "metadata": {},
   "source": [
    "## Array Indexing"
   ]
  },
  {
   "cell_type": "markdown",
   "id": "801f52b7-3f01-48ed-8744-70908ed5dde0",
   "metadata": {},
   "source": [
    "The items stored within arrays are called its **elements**. The location of an element within the array is called its **index**. Python uses zero-based indexing, which means we start counting from 0. For example, returning to `greetings_array` above, the string `\"hi\"` is the first element; that means its index is 0."
   ]
  },
  {
   "cell_type": "markdown",
   "id": "b4939732-81b5-49d9-b514-6a78b4ff9c21",
   "metadata": {},
   "source": [
    "To extract a given element from an array, we use brackets `[]` like so:"
   ]
  },
  {
   "cell_type": "code",
   "execution_count": null,
   "id": "ad9d4ff8-930b-4199-b5d9-bfa28a0c489e",
   "metadata": {},
   "outputs": [],
   "source": []
  },
  {
   "cell_type": "markdown",
   "id": "c9d44112-7ad6-49b1-95d0-4751c63eda38",
   "metadata": {},
   "source": [
    "If we want to extract multiple elements, we can use the colon `:` to go from index 1 ≤ i < index 2:"
   ]
  },
  {
   "cell_type": "code",
   "execution_count": null,
   "id": "012960c6-c79b-4adc-91ab-e99174b692c2",
   "metadata": {},
   "outputs": [],
   "source": []
  },
  {
   "cell_type": "markdown",
   "id": "5054f089-90b0-43f7-a9ba-a27ecd782b03",
   "metadata": {},
   "source": [
    "(Note that the output does not include index = 2; also note that we typically use `i` as the variable name for indices.)"
   ]
  },
  {
   "cell_type": "markdown",
   "id": "a9b35835-4b76-4ccf-82b9-b9d4e709943f",
   "metadata": {},
   "source": [
    "We can also get the length of an array using `len()`:"
   ]
  },
  {
   "cell_type": "code",
   "execution_count": null,
   "id": "f037c82c-7bc5-46bf-8a45-875a82cae8bc",
   "metadata": {},
   "outputs": [],
   "source": []
  },
  {
   "cell_type": "markdown",
   "id": "d0987c51-dc22-4e4d-a105-8f2cb0951bed",
   "metadata": {},
   "source": [
    "## Example 1: Time Series Plot"
   ]
  },
  {
   "cell_type": "markdown",
   "id": "6b7767ab-3466-4653-aa26-63d997357dc3",
   "metadata": {},
   "source": [
    "A 1-D array you often see in atmospheric science is a time series. For example, a 1 x 12 array where each element represents the average daily high temperatuer for each month. Here is the data for Seattle: https://weatherspark.com/y/913/Average-Weather-in-Seattle-Washington-United-States-Year-Round"
   ]
  },
  {
   "cell_type": "code",
   "execution_count": null,
   "id": "de8f7b18-0f97-43ab-9ce1-ba82a0a78ba0",
   "metadata": {},
   "outputs": [],
   "source": []
  },
  {
   "cell_type": "markdown",
   "id": "ba20f442-d517-467d-8f32-73ec48863f8f",
   "metadata": {},
   "source": [
    "In this case, the indices represent the month. So, if we want the average daily high temperature from May, we take:"
   ]
  },
  {
   "cell_type": "code",
   "execution_count": null,
   "id": "177437f4-0651-4266-8f2d-429f930eb95e",
   "metadata": {},
   "outputs": [],
   "source": []
  },
  {
   "cell_type": "markdown",
   "id": "72fcbde3-aaa1-4448-a783-7df7c7fba124",
   "metadata": {},
   "source": [
    "One of the most useful functions we can use on arrays is **plotting**. To do this, we are going to import the **matploblib** library and use the `plot()` function:"
   ]
  },
  {
   "cell_type": "code",
   "execution_count": null,
   "id": "7e81f5ad-4721-4d13-b9cf-89e29acdfc72",
   "metadata": {},
   "outputs": [],
   "source": []
  },
  {
   "cell_type": "markdown",
   "id": "7ad85a07-1658-43a6-870d-ff901738e1f8",
   "metadata": {},
   "source": [
    "Cool, right? Later on, we'll learn how to make this look nicer."
   ]
  },
  {
   "cell_type": "markdown",
   "id": "0170a368-c701-4dca-8094-4b01651bff69",
   "metadata": {},
   "source": [
    "## NumPy Arrays"
   ]
  },
  {
   "cell_type": "markdown",
   "id": "48af8406-318d-4980-a98c-ec0a1fe6b97a",
   "metadata": {},
   "source": [
    "A small confession: in the previous sections, we weren't actually using arrays but Python's built-in \"Lists\" as an introduction. Now, we're going to import the NumPy library to work with real arrays."
   ]
  },
  {
   "cell_type": "code",
   "execution_count": null,
   "id": "f346cca5-cb67-43d9-b479-5f285f30251a",
   "metadata": {},
   "outputs": [],
   "source": []
  },
  {
   "cell_type": "markdown",
   "id": "bcd66fc8-1739-4a6c-8c6f-db640a9264e6",
   "metadata": {},
   "source": [
    "What do I mean by that? Well real (numpy) arrays have certain useful characteristics that we will explore in the following sections:"
   ]
  },
  {
   "cell_type": "markdown",
   "id": "963b3dc2-ae85-41ea-a8ce-f2e32ac74aae",
   "metadata": {},
   "source": [
    "### 2-D Arrays"
   ]
  },
  {
   "cell_type": "markdown",
   "id": "c2e327b9-b2b5-4a33-89f0-0fb8cd0afb23",
   "metadata": {},
   "source": [
    "NumPy arrays can have multiple dimensions. A 2-D array has rows and columns and, when filled with numbers, can function like a linear algebra matrix."
   ]
  },
  {
   "cell_type": "code",
   "execution_count": null,
   "id": "bd4cd2ec-3d31-4fd6-9353-55d15b245c97",
   "metadata": {},
   "outputs": [],
   "source": []
  },
  {
   "cell_type": "code",
   "execution_count": null,
   "id": "551d1641-e83f-4c25-b773-dd052cc454fe",
   "metadata": {},
   "outputs": [],
   "source": []
  },
  {
   "cell_type": "markdown",
   "id": "a79eb821-2175-440e-b181-9cabf45ea3c1",
   "metadata": {},
   "source": [
    "To index into a 2_D array, we use the following syntax: `element = array[i,j]`, where `i` is the row index and `j` is the column index. For example, in the previous array, the element 6 is in row 2, column 3."
   ]
  },
  {
   "cell_type": "code",
   "execution_count": null,
   "id": "519bf834-ad6d-4de5-9bb5-e2b644c2d8b0",
   "metadata": {},
   "outputs": [],
   "source": []
  },
  {
   "cell_type": "markdown",
   "id": "53056c26-40ab-4b8b-b33e-7e3d68fbbc28",
   "metadata": {},
   "source": [
    "Note: remember that Python uses zero-based indexing! Also note that getting your i and j mixed up will pull a different element."
   ]
  },
  {
   "cell_type": "markdown",
   "id": "ade2edbc-996e-44b2-bdd5-4d1688522996",
   "metadata": {},
   "source": [
    "Why is this useful? Let's say we have a 2-D array filled with average May temperature, where the rows are the latitude and the columns are the longitude. Then, we can easily find the temperature at a given location by indexing into the array at `[lat_i,lon_i]`"
   ]
  },
  {
   "cell_type": "markdown",
   "id": "e09fd369-977a-4bbc-8760-1a3df0a5365a",
   "metadata": {},
   "source": [
    "### Multi-Dimensional Arrays"
   ]
  },
  {
   "cell_type": "markdown",
   "id": "aaab29d2-c284-43d5-b09b-314210e3ea2d",
   "metadata": {},
   "source": [
    "An array can have as many dimensions as we want it to have. For example, a common 3-D array that we might encounter in atmospheric sciences gives some variable at each latitude, longitude, and time. That means the dimensions of the array are lat x lon x time. For example, a 180 x 360 x 12 sized array called `Tmon_glob` that provides the monthly temperature for each grid point on the globe."
   ]
  },
  {
   "cell_type": "code",
   "execution_count": null,
   "id": "e53276eb-7931-4cdf-9749-dce993352fa5",
   "metadata": {},
   "outputs": [],
   "source": []
  },
  {
   "cell_type": "markdown",
   "id": "bc80112b-62c4-4cfd-baae-e122144a5cca",
   "metadata": {},
   "source": [
    "If we wanted the average May temperature for one grid point, we would use the following syntax:"
   ]
  },
  {
   "cell_type": "markdown",
   "id": "a2eb5792-97bb-4829-8ad4-adc5dd732de4",
   "metadata": {},
   "source": [
    "`T[lat_i,lon_i,4]`"
   ]
  },
  {
   "cell_type": "markdown",
   "id": "719c00f7-9f13-44a5-a948-d02a0128c467",
   "metadata": {},
   "source": [
    "If we wanted the entire annual cycle (all 12 monthly temperatures) for one location, we could retrieve all the elements in the time index by putting a colon `:`"
   ]
  },
  {
   "cell_type": "markdown",
   "id": "64a3c366-0617-4f4c-af14-a2a633df8358",
   "metadata": {},
   "source": [
    "`T[lat_i,lon_i,:]`"
   ]
  },
  {
   "cell_type": "markdown",
   "id": "2627eea8-beb7-4fa0-ab3e-497cfaf548b6",
   "metadata": {},
   "source": [
    "This would return a 1 x 1 x 12 array (like the time series in Example 1)."
   ]
  },
  {
   "cell_type": "markdown",
   "id": "8e3233fd-7552-46a7-99a0-6439c9eef3b3",
   "metadata": {},
   "source": [
    "#### Exercises for Understanding Multi-Dimensional Arrays"
   ]
  },
  {
   "cell_type": "markdown",
   "id": "1d828589-0b1f-4ab5-8d43-5033b021d5b9",
   "metadata": {},
   "source": [
    "1. What would `T[lat_i,lon_i,7:9]` return? A: the June, July, August monthly temperatures at a location\n",
    "2. What would `T[:,lon_i,12]` return? A: the December temperatures for every latitude along a longitude band. Bonus: what would this look like? A: Colder near the beginngin and end (poles)"
   ]
  },
  {
   "cell_type": "markdown",
   "id": "0f13215b-7068-48c9-8597-d15ca259f0db",
   "metadata": {},
   "source": [
    "#### Variables as a Dimension"
   ]
  },
  {
   "cell_type": "markdown",
   "id": "09821ea9-f5e7-422e-8435-73e3bb054710",
   "metadata": {},
   "source": [
    "Another common dimension is variable. If an array contains multiple variables, for example: `hourlymet_glob` global hourly temperature, precipitation, and wind speed, then the dataset may have temperature assigned to be the first index (i=0), precipitation as the second (i=1), and wind as i=2. In this case, to access temperature, we would call:"
   ]
  },
  {
   "cell_type": "markdown",
   "id": "fc54d707-1c16-48fc-b59d-af01a07351cb",
   "metadata": {},
   "source": [
    "`hourlymet_glob[lat_i,lon_i,:,0]`"
   ]
  },
  {
   "cell_type": "markdown",
   "id": "d9598775-d78c-446d-8a8d-f879d2331aed",
   "metadata": {},
   "source": [
    "### Useful Array Functions"
   ]
  },
  {
   "cell_type": "markdown",
   "id": "67e2f683-5a3a-4d3c-9611-985e8a1064c3",
   "metadata": {},
   "source": [
    "#### Statistics"
   ]
  },
  {
   "cell_type": "markdown",
   "id": "9caed0fe-393f-4547-943d-0a0787aa5af8",
   "metadata": {},
   "source": [
    "We can take the **mean** of an array using `np.mean()`:"
   ]
  },
  {
   "cell_type": "code",
   "execution_count": null,
   "id": "780de8b3-1acd-4481-8f01-f2db3e5b4487",
   "metadata": {},
   "outputs": [],
   "source": []
  },
  {
   "cell_type": "markdown",
   "id": "49b2a84c-ef6c-4713-94b0-5ea40261639f",
   "metadata": {},
   "source": [
    "A very useful numpy function is the ability to take the mean along a specified axis for multi-dimensional arrays. For example, returning to our 2D array from earlier:"
   ]
  },
  {
   "cell_type": "code",
   "execution_count": null,
   "id": "cb88ad2e-7b7c-4652-9446-c1bcbc0c575b",
   "metadata": {},
   "outputs": [],
   "source": []
  },
  {
   "cell_type": "markdown",
   "id": "b8ebcd37-f595-48a7-912a-d8fdf1d8014d",
   "metadata": {},
   "source": [
    "We can find the mean for each column by noting that the column is the second index, so its axis is 1 in Python."
   ]
  },
  {
   "cell_type": "code",
   "execution_count": null,
   "id": "71e74955-1be5-40b9-8071-953873f4d72e",
   "metadata": {},
   "outputs": [],
   "source": []
  },
  {
   "cell_type": "markdown",
   "id": "7d04b5aa-9d55-43ce-b80c-bd0879d0faa9",
   "metadata": {},
   "source": [
    "We can take the **median**, **std** (standard deviation), etc of an array in similar fashion."
   ]
  },
  {
   "cell_type": "markdown",
   "id": "687fc68b-e043-4c35-a4f0-9bd6a3169424",
   "metadata": {},
   "source": [
    "#### NaN"
   ]
  },
  {
   "cell_type": "markdown",
   "id": "d9b383f6-0417-4a7e-9cfb-bb5cf0d654af",
   "metadata": {},
   "source": [
    "Sometimes the dataset you download will have NaN values, which is generally a placeholder for bad (or no) data. IN that case, you will have to be careful to ignore the NaN values when taking the mean, or else the following will happen:"
   ]
  },
  {
   "cell_type": "code",
   "execution_count": null,
   "id": "8cd4c453-e8b6-423c-a11b-31cf1608f126",
   "metadata": {},
   "outputs": [],
   "source": []
  },
  {
   "cell_type": "markdown",
   "id": "6f347cb5-09b9-461a-aacc-5a5feb82a116",
   "metadata": {},
   "source": [
    "Luckily, Python has a handy function for this: `np.nanmean()`"
   ]
  },
  {
   "cell_type": "code",
   "execution_count": null,
   "id": "5df588a1-0780-4d07-8865-9b47ab1965c0",
   "metadata": {},
   "outputs": [],
   "source": []
  },
  {
   "cell_type": "markdown",
   "id": "edd86cc2-2299-4e9d-98cb-f849f6161baf",
   "metadata": {},
   "source": [
    "## Conclusion"
   ]
  },
  {
   "cell_type": "markdown",
   "id": "33be3d59-a284-4c05-83a5-906475aa965e",
   "metadata": {},
   "source": [
    "Arrays allows us to store data, which then we can plot and analyze through indexing and other methods. In Python, we work with arrays using the NumPy library."
   ]
  }
 ],
 "metadata": {
  "kernelspec": {
   "display_name": "Python 3 (ipykernel)",
   "language": "python",
   "name": "python3"
  },
  "language_info": {
   "codemirror_mode": {
    "name": "ipython",
    "version": 3
   },
   "file_extension": ".py",
   "mimetype": "text/x-python",
   "name": "python",
   "nbconvert_exporter": "python",
   "pygments_lexer": "ipython3",
   "version": "3.8.16"
  }
 },
 "nbformat": 4,
 "nbformat_minor": 5
}
