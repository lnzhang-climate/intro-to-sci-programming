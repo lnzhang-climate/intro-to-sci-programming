{
 "cells": [
  {
   "cell_type": "markdown",
   "id": "ce96df34-0eb8-49b2-83a2-f0c9b85fff2d",
   "metadata": {},
   "source": [
    "Intro to Scientific Programming, developed by Lily N. Zhang (lilynzhang.com/teaching/)"
   ]
  },
  {
   "cell_type": "markdown",
   "id": "ac932ed0-e674-460f-9145-757457efb17d",
   "metadata": {},
   "source": [
    "## Lesson Four"
   ]
  },
  {
   "cell_type": "markdown",
   "id": "4dc7f74b-a879-482f-8c86-e1a4084d3125",
   "metadata": {},
   "source": [
    "# Logic and Loops"
   ]
  },
  {
   "cell_type": "markdown",
   "id": "a5455196-44a8-4971-be28-02c57410c0a2",
   "metadata": {},
   "source": [
    "## Computer Logic"
   ]
  },
  {
   "cell_type": "markdown",
   "id": "777e7572-9362-4bdd-b6d4-3160d5e2a936",
   "metadata": {},
   "source": [
    "Computers can evaluate truth! If you give Python a statement, it will return a **Boolean**."
   ]
  },
  {
   "cell_type": "code",
   "execution_count": 1,
   "id": "3f4a0c2e-419f-4bbd-8e37-16a26d6f5c4b",
   "metadata": {},
   "outputs": [
    {
     "data": {
      "text/plain": [
       "False"
      ]
     },
     "execution_count": 1,
     "metadata": {},
     "output_type": "execute_result"
    }
   ],
   "source": [
    "3 > 4"
   ]
  },
  {
   "cell_type": "markdown",
   "id": "b7cf86e2-92b0-46a8-ba15-4c56971f714a",
   "metadata": {},
   "source": [
    "Booleans are data types that can take one of two values: **True (1)** or **False (0)**. The following expressions are typical statements we might evaluate in our work: \n",
    "* a equals b: `a == b`\n",
    "* a less than b: `a < b` (similarly for a > b)\n",
    "* a less than or equal to b: `a <= b` (and vice versa)"
   ]
  },
  {
   "cell_type": "markdown",
   "id": "61c9636e-329b-4e42-a4ec-3d394f7c15eb",
   "metadata": {},
   "source": [
    "There are also **Boolean operators**, which allow you to evaluate two conditions together. The three Boolean (also sometimes called logical) operators are:\n",
    "* `x & y` (x AND y): is True only if _both_ x and y are True, False if either one is False\n",
    "* `x | y` (x OR y): is True if _either_ x or y is True, False only if both are False\n",
    "* `~x` (NOT x): returns the opposite of a Boolean x"
   ]
  },
  {
   "cell_type": "markdown",
   "id": "6e813ce1-9c07-4336-908b-4b262a9def50",
   "metadata": {},
   "source": [
    "Since Booleans are just another data type, we can assign the outcome of a Boolean expression to a variable. Example:"
   ]
  },
  {
   "cell_type": "code",
   "execution_count": 3,
   "id": "e2a3ff49-8513-452b-a14a-a9c03dda8913",
   "metadata": {},
   "outputs": [
    {
     "name": "stdout",
     "output_type": "stream",
     "text": [
      "False\n"
     ]
    }
   ],
   "source": [
    "var = -1\n",
    "x = var > 0\n",
    "y = var < 10\n",
    "print(x & y)"
   ]
  },
  {
   "cell_type": "code",
   "execution_count": 4,
   "id": "33d33457-2ada-4070-9fbf-daf61ac218b0",
   "metadata": {},
   "outputs": [
    {
     "name": "stdout",
     "output_type": "stream",
     "text": [
      "True\n"
     ]
    }
   ],
   "source": [
    "print(x | y)"
   ]
  },
  {
   "cell_type": "markdown",
   "id": "63b4f004-6376-40c2-9d73-70e8a031b616",
   "metadata": {},
   "source": [
    "## Conditional Statements"
   ]
  },
  {
   "cell_type": "markdown",
   "id": "e9c53530-c7e5-4392-9692-0fe04f2d00a5",
   "metadata": {},
   "source": [
    "We can direct Python to execute commands under specified conditions. To do this, we use an **if statement**. If statements take the following syntax:"
   ]
  },
  {
   "cell_type": "code",
   "execution_count": null,
   "id": "bbb7a947-f22f-48f2-9ef2-ff645ed2d19f",
   "metadata": {},
   "outputs": [],
   "source": [
    "if condition:\n",
    "    # do this\n",
    "else:\n",
    "    # do something else"
   ]
  },
  {
   "cell_type": "markdown",
   "id": "30505007-48b9-4cc3-ba25-ad4c98820a67",
   "metadata": {},
   "source": [
    "For example:"
   ]
  },
  {
   "cell_type": "code",
   "execution_count": 9,
   "id": "6a2967bb-1e42-4b19-b537-78cb3b7db8ff",
   "metadata": {},
   "outputs": [
    {
     "name": "stdout",
     "output_type": "stream",
     "text": [
      "a doesn't equal b\n"
     ]
    }
   ],
   "source": [
    "a = 2\n",
    "b = 3 \n",
    "\n",
    "if a == b:\n",
    "    print(\"a equals b\")\n",
    "else:\n",
    "    print(\"a doesn't equal b\")"
   ]
  },
  {
   "cell_type": "markdown",
   "id": "275a2f6a-4a12-4f04-b806-51e8546d7efa",
   "metadata": {},
   "source": [
    "Being able to evaluate the condition of a variable and then take action based on that is very useful! One important application is loops."
   ]
  },
  {
   "cell_type": "markdown",
   "id": "2187c21e-6651-44aa-9e40-9a824927db0e",
   "metadata": {},
   "source": [
    "## Loops"
   ]
  },
  {
   "cell_type": "markdown",
   "id": "0eddbd8b-c0dd-4d42-a8ac-cb1f486c5d9c",
   "metadata": {},
   "source": [
    "Loops take the form:"
   ]
  },
  {
   "cell_type": "code",
   "execution_count": null,
   "id": "d691a329-c38b-45ea-b8fa-6afc32256b4f",
   "metadata": {},
   "outputs": [],
   "source": [
    "while condition:\n",
    "    # do something"
   ]
  },
  {
   "cell_type": "markdown",
   "id": "1c09d129-5e50-48ce-b11f-1cbee87c65a7",
   "metadata": {},
   "source": [
    "As long as the condition at the top is met, Python will keep executing the command inside the loop. The condition will generally involve evaluating the value of a variable inside the loop. For example, what would the following do?"
   ]
  },
  {
   "cell_type": "code",
   "execution_count": 12,
   "id": "2d58eccd-3a80-40b0-b5d0-244322ce4511",
   "metadata": {},
   "outputs": [
    {
     "name": "stdout",
     "output_type": "stream",
     "text": [
      "1\n",
      "2\n",
      "3\n",
      "4\n",
      "5\n",
      "6\n",
      "7\n",
      "8\n",
      "9\n"
     ]
    }
   ],
   "source": [
    "i = 1\n",
    "steps = 10\n",
    "\n",
    "while i < steps:\n",
    "    print(i)\n",
    "    i = i+1"
   ]
  },
  {
   "cell_type": "markdown",
   "id": "9732cfe6-864d-472c-bb7a-af187b83011b",
   "metadata": {},
   "source": [
    "Thought exercise: what would happen if we didn't increase i at each time step?"
   ]
  },
  {
   "cell_type": "markdown",
   "id": "29c940b4-b3d8-4771-b5d6-0b913cbd7ad4",
   "metadata": {},
   "source": [
    "### For Loops"
   ]
  },
  {
   "cell_type": "markdown",
   "id": "f1178c8a-d756-41e9-88be-25fc192bce7f",
   "metadata": {},
   "source": [
    "In general, we tend to want to loop through some indices in an incremental fashion (e.g., from 1 to 10, as above). A **for loop** allows us to do this without having to make our own \"ticker\" (counter)."
   ]
  },
  {
   "cell_type": "code",
   "execution_count": 2,
   "id": "922a9e05-3a44-400f-8341-7da026a957ac",
   "metadata": {},
   "outputs": [
    {
     "name": "stdout",
     "output_type": "stream",
     "text": [
      "2\n",
      "6\n",
      "10\n",
      "14\n"
     ]
    }
   ],
   "source": [
    "arr = [1, 3, 5, 7]\n",
    "for a in arr:\n",
    "    a = a*2\n",
    "    print(a)"
   ]
  },
  {
   "cell_type": "code",
   "execution_count": 8,
   "id": "17601c6b-1aae-4e8d-bd0f-8b7458e2d1a7",
   "metadata": {},
   "outputs": [
    {
     "name": "stdout",
     "output_type": "stream",
     "text": [
      "1\n",
      "2\n",
      "3\n",
      "4\n",
      "5\n",
      "6\n",
      "7\n",
      "8\n",
      "9\n"
     ]
    }
   ],
   "source": [
    "sum = 0\n",
    "for i in range(1,10):\n",
    "    print(i)\n",
    "    sum = sum+1"
   ]
  },
  {
   "cell_type": "code",
   "execution_count": 5,
   "id": "04245759-6b28-4465-b451-fa59bf67d488",
   "metadata": {},
   "outputs": [
    {
     "data": {
      "text/plain": [
       "range(1, 10)"
      ]
     },
     "execution_count": 5,
     "metadata": {},
     "output_type": "execute_result"
    }
   ],
   "source": [
    "range(1,10)"
   ]
  },
  {
   "cell_type": "code",
   "execution_count": 7,
   "id": "7ac7ba28-3d44-4873-ae8c-5748b9e57e62",
   "metadata": {},
   "outputs": [
    {
     "name": "stdout",
     "output_type": "stream",
     "text": [
      "1\n"
     ]
    }
   ],
   "source": [
    "print(sum)"
   ]
  },
  {
   "cell_type": "markdown",
   "id": "2cc3b226-6b1f-45d8-8309-53ab63ce7145",
   "metadata": {},
   "source": [
    "Much simpler, right?! For loops are what we'll mostly be using in scientific computing to loop through arrays."
   ]
  },
  {
   "cell_type": "markdown",
   "id": "fd047cdc-ade7-4d85-9a03-7057622dc49e",
   "metadata": {},
   "source": [
    "## Application"
   ]
  },
  {
   "cell_type": "markdown",
   "id": "f022f780-6492-484a-a7d3-bf038f0afba6",
   "metadata": {},
   "source": [
    "Let's use for loops to make an array using our radiative balance model from the very first lesson!"
   ]
  },
  {
   "cell_type": "code",
   "execution_count": 10,
   "id": "7d06cc8a-934d-407c-af6b-94d8dcea0fbe",
   "metadata": {},
   "outputs": [],
   "source": [
    "from metpy.units import units\n",
    "S0 = 1367 * units('W/m^2') # solar constant in Watts per meter squared\n",
    "sig = 5.67 * 10**(-8) * units('W/m^2*K^(-4)') # Stefan-Boltzmann constant"
   ]
  },
  {
   "cell_type": "code",
   "execution_count": 11,
   "id": "65d50249-6bf6-4479-9b4c-d803c3dc91ce",
   "metadata": {},
   "outputs": [
    {
     "data": {
      "text/plain": [
       "array([0. , 0.1, 0.2, 0.3, 0.4, 0.5, 0.6, 0.7, 0.8, 0.9, 1. ])"
      ]
     },
     "execution_count": 11,
     "metadata": {},
     "output_type": "execute_result"
    }
   ],
   "source": [
    "import numpy as np\n",
    "# let's make an array for all the albedo values we want to test\n",
    "albedo = np.linspace(0,1,11)\n",
    "albedo"
   ]
  },
  {
   "cell_type": "code",
   "execution_count": 12,
   "id": "6d611b49-cee7-473d-99f3-c5133e45bf22",
   "metadata": {},
   "outputs": [],
   "source": [
    "T = np.empty((len(albedo),1)) # this is an empty array that will store our resulting temperature\n",
    "for i in range(0,len(albedo)):\n",
    "    a = albedo[i]\n",
    "    T[i] = ((1-a)*S0/(4*sig))**(1/4)"
   ]
  },
  {
   "cell_type": "code",
   "execution_count": 13,
   "id": "5d7f3263-3d09-4d24-8992-8ccdef60834e",
   "metadata": {},
   "outputs": [
    {
     "data": {
      "text/plain": [
       "(11, 1)"
      ]
     },
     "execution_count": 13,
     "metadata": {},
     "output_type": "execute_result"
    }
   ],
   "source": [
    "T.shape"
   ]
  },
  {
   "cell_type": "code",
   "execution_count": 26,
   "id": "ead2bce0-b18b-4abc-b7fb-ea279315c047",
   "metadata": {},
   "outputs": [
    {
     "data": {
      "text/plain": [
       "Text(0.5, 1.0, 'Simple Energy Balance Model')"
      ]
     },
     "execution_count": 26,
     "metadata": {},
     "output_type": "execute_result"
    },
    {
     "data": {
      "image/png": "[encoded data removed]",
      "text/plain": [
       "<Figure size 640x480 with 1 Axes>"
      ]
     },
     "metadata": {},
     "output_type": "display_data"
    }
   ],
   "source": [
    "import matplotlib.pyplot as plt\n",
    "plt.plot(albedo,T)\n",
    "plt.xlabel(\"Albedo\")\n",
    "plt.ylabel(\"Temperature\")\n",
    "plt.title(\"Simple Energy Balance Model\")"
   ]
  },
  {
   "cell_type": "code",
   "execution_count": null,
   "id": "fb444ce3-9194-4716-9da0-ce49c4c274e7",
   "metadata": {},
   "outputs": [],
   "source": []
  }
 ],
 "metadata": {
  "kernelspec": {
   "display_name": "Python 3 (ipykernel)",
   "language": "python",
   "name": "python3"
  },
  "language_info": {
   "codemirror_mode": {
    "name": "ipython",
    "version": 3
   },
   "file_extension": ".py",
   "mimetype": "text/x-python",
   "name": "python",
   "nbconvert_exporter": "python",
   "pygments_lexer": "ipython3",
   "version": "3.8.16"
  }
 },
 "nbformat": 4,
 "nbformat_minor": 5
}
