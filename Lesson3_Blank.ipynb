{
 "cells": [
  {
   "cell_type": "markdown",
   "id": "d8c0b165-a597-43d2-8e41-12c284f481f4",
   "metadata": {},
   "source": [
    "Intro to Scientific Programming, developed by Lily N. Zhang (lilynzhang.com/teaching/)"
   ]
  },
  {
   "cell_type": "markdown",
   "id": "b876a5fd-6f13-474a-9354-2d9bebbb5608",
   "metadata": {},
   "source": [
    "## Lesson Three"
   ]
  },
  {
   "cell_type": "markdown",
   "id": "bc1bc009-7114-4149-b04c-3a95bcea496c",
   "metadata": {},
   "source": [
    "# Plotting"
   ]
  },
  {
   "cell_type": "markdown",
   "id": "03a390f3-8b0a-4d42-95f0-ac3422aeaf86",
   "metadata": {},
   "source": [
    "### Review"
   ]
  },
  {
   "cell_type": "markdown",
   "id": "c66bdccd-f600-4290-87b1-2b4547e96eb5",
   "metadata": {},
   "source": [
    "Last time, we learned about arrays:\n",
    "* What they are: n-dimensional structures that can store data of any type (e.g., integers, strings)\n",
    "* How we use them: indexing, computing means, statistics across an axis, plotting"
   ]
  },
  {
   "cell_type": "markdown",
   "id": "9bd96831-e3c7-443b-9a43-4798ad70f8cb",
   "metadata": {},
   "source": [
    "### Lesson Objectives"
   ]
  },
  {
   "cell_type": "markdown",
   "id": "87ebb616-c094-4267-a2d7-81f6d9a28fed",
   "metadata": {},
   "source": [
    "Today, we will learn:\n",
    "* How to download and process data arrays\n",
    "* More on plotting\n",
    "We will learn this through two examples--the best way to learn is by doing!"
   ]
  },
  {
   "cell_type": "markdown",
   "id": "433282ab-0bd5-44da-a031-b52de2d8654e",
   "metadata": {},
   "source": [
    "## Basic Concepts"
   ]
  },
  {
   "cell_type": "markdown",
   "id": "2ad212da-e4ac-452e-8307-7f165594955f",
   "metadata": {},
   "source": [
    "First, let's create a fake dataset in NumPy to demonstrate some basic concepts:"
   ]
  },
  {
   "cell_type": "code",
   "execution_count": 1,
   "id": "94f7d8ab-181b-49db-a9ff-f1884e47b4d5",
   "metadata": {},
   "outputs": [],
   "source": [
    "import numpy as np\n",
    "x = np.linspace(1,10,10) # this creates an array from x1 to x2 with n points\n",
    "y = x*2 # we can multiply arrays by scalars in this way -- be careful when multiplying two arrays"
   ]
  },
  {
   "cell_type": "markdown",
   "id": "0119f660-d523-4d17-b607-116d1afa4335",
   "metadata": {},
   "source": [
    "Now, we're going to import the `matplotlib` library and use its `pyplot` module:"
   ]
  },
  {
   "cell_type": "code",
   "execution_count": 3,
   "id": "3c7e295d-9194-4d45-a2eb-f78863906daf",
   "metadata": {},
   "outputs": [
    {
     "data": {
      "text/plain": [
       "Text(0.5, 1.0, 'title')"
      ]
     },
     "execution_count": 3,
     "metadata": {},
     "output_type": "execute_result"
    },
    {
     "data": {
      "image/png": "[encoded data removed]",
      "text/plain": [
       "<Figure size 640x480 with 1 Axes>"
      ]
     },
     "metadata": {},
     "output_type": "display_data"
    }
   ],
   "source": [
    "import matplotlib.pyplot as plt\n",
    "plt.plot(x,y)\n",
    "plt.xlabel(\"xlabel\")\n",
    "plt.ylabel(\"ylabel\")\n",
    "plt.title(\"title\")"
   ]
  },
  {
   "cell_type": "markdown",
   "id": "96aa4f92-de31-445a-876c-87433ca939a4",
   "metadata": {},
   "source": [
    "Some other things we can change are the x- and y-ticks, the tick labels, the font size, add an additional y-xais, the limits and scale of the axes, figure size, and more! Later on, when we start looking at a 2-D dataset, we'll be adding a colorbar with its own limits, ticks, and labels."
   ]
  },
  {
   "cell_type": "markdown",
   "id": "b63ecf98-676d-4716-afa0-f951d6b1ae31",
   "metadata": {},
   "source": [
    "## CO2 Example: Plotting 1-D Arrays"
   ]
  },
  {
   "cell_type": "markdown",
   "id": "58a4696d-b83a-4d36-951d-9df008939de8",
   "metadata": {},
   "source": [
    "### Data Download"
   ]
  },
  {
   "cell_type": "markdown",
   "id": "7790f1af-f5f9-40f0-b591-ec52b05b8725",
   "metadata": {},
   "source": [
    "We're going to download the .txt file that contains Mauna Loa annual mean CO2 measurements from here: https://gml.noaa.gov/ccgg/trends/data.html and add it to our directory (whatever folder we're working out of). We can read in .txt files using the `.loadtxt()` function in NumPy:"
   ]
  },
  {
   "cell_type": "code",
   "execution_count": 6,
   "id": "43c66e70-b9d0-4fa0-a389-de7c6f29445c",
   "metadata": {},
   "outputs": [],
   "source": [
    "co2_tbl = np.loadtxt(\"co2_annmean_mlo.txt\")"
   ]
  },
  {
   "cell_type": "code",
   "execution_count": 7,
   "id": "808fddc0-3cda-4e42-a580-c041da951e1d",
   "metadata": {
    "tags": []
   },
   "outputs": [
    {
     "data": {
      "text/plain": [
       "array([[1.9590e+03, 3.1598e+02, 1.2000e-01],\n",
       "       [1.9600e+03, 3.1691e+02, 1.2000e-01],\n",
       "       [1.9610e+03, 3.1764e+02, 1.2000e-01],\n",
       "       [1.9620e+03, 3.1845e+02, 1.2000e-01],\n",
       "       [1.9630e+03, 3.1899e+02, 1.2000e-01],\n",
       "       [1.9640e+03, 3.1962e+02, 1.2000e-01],\n",
       "       [1.9650e+03, 3.2004e+02, 1.2000e-01],\n",
       "       [1.9660e+03, 3.2137e+02, 1.2000e-01],\n",
       "       [1.9670e+03, 3.2218e+02, 1.2000e-01],\n",
       "       [1.9680e+03, 3.2305e+02, 1.2000e-01],\n",
       "       [1.9690e+03, 3.2462e+02, 1.2000e-01],\n",
       "       [1.9700e+03, 3.2568e+02, 1.2000e-01],\n",
       "       [1.9710e+03, 3.2632e+02, 1.2000e-01],\n",
       "       [1.9720e+03, 3.2746e+02, 1.2000e-01],\n",
       "       [1.9730e+03, 3.2968e+02, 1.2000e-01],\n",
       "       [1.9740e+03, 3.3019e+02, 1.2000e-01],\n",
       "       [1.9750e+03, 3.3113e+02, 1.2000e-01],\n",
       "       [1.9760e+03, 3.3203e+02, 1.2000e-01],\n",
       "       [1.9770e+03, 3.3384e+02, 1.2000e-01],\n",
       "       [1.9780e+03, 3.3541e+02, 1.2000e-01],\n",
       "       [1.9790e+03, 3.3684e+02, 1.2000e-01],\n",
       "       [1.9800e+03, 3.3876e+02, 1.2000e-01],\n",
       "       [1.9810e+03, 3.4012e+02, 1.2000e-01],\n",
       "       [1.9820e+03, 3.4148e+02, 1.2000e-01],\n",
       "       [1.9830e+03, 3.4315e+02, 1.2000e-01],\n",
       "       [1.9840e+03, 3.4487e+02, 1.2000e-01],\n",
       "       [1.9850e+03, 3.4635e+02, 1.2000e-01],\n",
       "       [1.9860e+03, 3.4761e+02, 1.2000e-01],\n",
       "       [1.9870e+03, 3.4931e+02, 1.2000e-01],\n",
       "       [1.9880e+03, 3.5169e+02, 1.2000e-01],\n",
       "       [1.9890e+03, 3.5320e+02, 1.2000e-01],\n",
       "       [1.9900e+03, 3.5445e+02, 1.2000e-01],\n",
       "       [1.9910e+03, 3.5570e+02, 1.2000e-01],\n",
       "       [1.9920e+03, 3.5654e+02, 1.2000e-01],\n",
       "       [1.9930e+03, 3.5721e+02, 1.2000e-01],\n",
       "       [1.9940e+03, 3.5896e+02, 1.2000e-01],\n",
       "       [1.9950e+03, 3.6097e+02, 1.2000e-01],\n",
       "       [1.9960e+03, 3.6274e+02, 1.2000e-01],\n",
       "       [1.9970e+03, 3.6388e+02, 1.2000e-01],\n",
       "       [1.9980e+03, 3.6684e+02, 1.2000e-01],\n",
       "       [1.9990e+03, 3.6854e+02, 1.2000e-01],\n",
       "       [2.0000e+03, 3.6971e+02, 1.2000e-01],\n",
       "       [2.0010e+03, 3.7132e+02, 1.2000e-01],\n",
       "       [2.0020e+03, 3.7345e+02, 1.2000e-01],\n",
       "       [2.0030e+03, 3.7598e+02, 1.2000e-01],\n",
       "       [2.0040e+03, 3.7770e+02, 1.2000e-01],\n",
       "       [2.0050e+03, 3.7998e+02, 1.2000e-01],\n",
       "       [2.0060e+03, 3.8209e+02, 1.2000e-01],\n",
       "       [2.0070e+03, 3.8402e+02, 1.2000e-01],\n",
       "       [2.0080e+03, 3.8583e+02, 1.2000e-01],\n",
       "       [2.0090e+03, 3.8764e+02, 1.2000e-01],\n",
       "       [2.0100e+03, 3.9010e+02, 1.2000e-01],\n",
       "       [2.0110e+03, 3.9185e+02, 1.2000e-01],\n",
       "       [2.0120e+03, 3.9406e+02, 1.2000e-01],\n",
       "       [2.0130e+03, 3.9674e+02, 1.2000e-01],\n",
       "       [2.0140e+03, 3.9881e+02, 1.2000e-01],\n",
       "       [2.0150e+03, 4.0101e+02, 1.2000e-01],\n",
       "       [2.0160e+03, 4.0441e+02, 1.2000e-01],\n",
       "       [2.0170e+03, 4.0676e+02, 1.2000e-01],\n",
       "       [2.0180e+03, 4.0872e+02, 1.2000e-01],\n",
       "       [2.0190e+03, 4.1165e+02, 1.2000e-01],\n",
       "       [2.0200e+03, 4.1421e+02, 1.2000e-01],\n",
       "       [2.0210e+03, 4.1641e+02, 1.2000e-01],\n",
       "       [2.0220e+03, 4.1853e+02, 1.2000e-01],\n",
       "       [2.0230e+03, 4.2108e+02, 1.2000e-01]])"
      ]
     },
     "execution_count": 7,
     "metadata": {},
     "output_type": "execute_result"
    }
   ],
   "source": [
    "co2_tbl"
   ]
  },
  {
   "cell_type": "markdown",
   "id": "1b19d59f-da3d-45e9-8f2e-cf83a61671cb",
   "metadata": {},
   "source": [
    "We know that the year is the first column and the corresponding annual mean CO2 is the second column, so let's extract them:"
   ]
  },
  {
   "cell_type": "code",
   "execution_count": 8,
   "id": "e6b4bcb2-ed74-4381-8931-e83e3d54205a",
   "metadata": {},
   "outputs": [],
   "source": [
    "years = co2_tbl[:,0]\n",
    "co2_am = co2_tbl[:,1]"
   ]
  },
  {
   "cell_type": "code",
   "execution_count": 9,
   "id": "637f01a4-f2c4-4c7e-94a1-a9a70b495166",
   "metadata": {},
   "outputs": [
    {
     "data": {
      "text/plain": [
       "array([1959., 1960., 1961., 1962., 1963., 1964., 1965., 1966., 1967.,\n",
       "       1968., 1969., 1970., 1971., 1972., 1973., 1974., 1975., 1976.,\n",
       "       1977., 1978., 1979., 1980., 1981., 1982., 1983., 1984., 1985.,\n",
       "       1986., 1987., 1988., 1989., 1990., 1991., 1992., 1993., 1994.,\n",
       "       1995., 1996., 1997., 1998., 1999., 2000., 2001., 2002., 2003.,\n",
       "       2004., 2005., 2006., 2007., 2008., 2009., 2010., 2011., 2012.,\n",
       "       2013., 2014., 2015., 2016., 2017., 2018., 2019., 2020., 2021.,\n",
       "       2022., 2023.])"
      ]
     },
     "execution_count": 9,
     "metadata": {},
     "output_type": "execute_result"
    }
   ],
   "source": [
    "years"
   ]
  },
  {
   "cell_type": "code",
   "execution_count": 10,
   "id": "54805bf0-fc8d-45d4-af5e-d1c327b394a9",
   "metadata": {},
   "outputs": [
    {
     "data": {
      "text/plain": [
       "array([315.98, 316.91, 317.64, 318.45, 318.99, 319.62, 320.04, 321.37,\n",
       "       322.18, 323.05, 324.62, 325.68, 326.32, 327.46, 329.68, 330.19,\n",
       "       331.13, 332.03, 333.84, 335.41, 336.84, 338.76, 340.12, 341.48,\n",
       "       343.15, 344.87, 346.35, 347.61, 349.31, 351.69, 353.2 , 354.45,\n",
       "       355.7 , 356.54, 357.21, 358.96, 360.97, 362.74, 363.88, 366.84,\n",
       "       368.54, 369.71, 371.32, 373.45, 375.98, 377.7 , 379.98, 382.09,\n",
       "       384.02, 385.83, 387.64, 390.1 , 391.85, 394.06, 396.74, 398.81,\n",
       "       401.01, 404.41, 406.76, 408.72, 411.65, 414.21, 416.41, 418.53,\n",
       "       421.08])"
      ]
     },
     "execution_count": 10,
     "metadata": {},
     "output_type": "execute_result"
    }
   ],
   "source": [
    "co2_am"
   ]
  },
  {
   "cell_type": "markdown",
   "id": "0df05dbb-3e81-49fc-bf36-3d0138cecb43",
   "metadata": {},
   "source": [
    "### Line Plots using `.plot(x1,y2)`"
   ]
  },
  {
   "cell_type": "code",
   "execution_count": 11,
   "id": "d25d0685-79fe-4d70-aeab-8b59d3a5a2a2",
   "metadata": {},
   "outputs": [
    {
     "data": {
      "text/plain": [
       "[<matplotlib.lines.Line2D at 0x7fb851ebc580>]"
      ]
     },
     "execution_count": 11,
     "metadata": {},
     "output_type": "execute_result"
    },
    {
     "data": {
      "image/png": "[encoded data removed]",
      "text/plain": [
       "<Figure size 640x480 with 1 Axes>"
      ]
     },
     "metadata": {},
     "output_type": "display_data"
    }
   ],
   "source": [
    "plt.plot(years,co2_am)"
   ]
  },
  {
   "cell_type": "markdown",
   "id": "260ea12d-f5a9-4a10-bde5-667c9842fcb3",
   "metadata": {},
   "source": [
    "### Modiying Line Properties"
   ]
  },
  {
   "cell_type": "markdown",
   "id": "d9bfd844-e7a9-4733-a623-600f0c5e70bc",
   "metadata": {},
   "source": [
    "From the matplotlib documentation, we learn that we can specify properties such as `linestyle`, `linewidth`, `marker`, and `color`:"
   ]
  },
  {
   "cell_type": "code",
   "execution_count": 18,
   "id": "32c58576-e19f-4f9a-adc3-f3382c4da1a1",
   "metadata": {},
   "outputs": [
    {
     "data": {
      "text/plain": [
       "[<matplotlib.lines.Line2D at 0x7fb8528c9880>]"
      ]
     },
     "execution_count": 18,
     "metadata": {},
     "output_type": "execute_result"
    },
    {
     "data": {
      "image/png": "[encoded data removed]",
      "text/plain": [
       "<Figure size 640x480 with 1 Axes>"
      ]
     },
     "metadata": {},
     "output_type": "display_data"
    }
   ],
   "source": [
    "plt.plot(years,co2_am,color='red',linewidth=2,marker='o')"
   ]
  },
  {
   "cell_type": "markdown",
   "id": "0e564593-16e0-4108-8931-1d52f68664e0",
   "metadata": {},
   "source": [
    "### Axes Properties"
   ]
  },
  {
   "cell_type": "code",
   "execution_count": 17,
   "id": "0b765799-ebc8-401a-8643-d8a02290b5b2",
   "metadata": {},
   "outputs": [
    {
     "data": {
      "text/plain": [
       "Text(0.5, 1.0, 'Mauna Loa CO2 1959-2022')"
      ]
     },
     "execution_count": 17,
     "metadata": {},
     "output_type": "execute_result"
    },
    {
     "data": {
      "image/png": "[encoded data removed]",
      "text/plain": [
       "<Figure size 640x480 with 1 Axes>"
      ]
     },
     "metadata": {},
     "output_type": "display_data"
    }
   ],
   "source": [
    "plt.plot(years,co2_am,color='red',linewidth=2)\n",
    "plt.xlim([years[0], years[-1]])\n",
    "plt.xlabel(\"Year\")\n",
    "plt.ylabel(\"CO2 Concentration [ppm]\")\n",
    "plt.title(\"Mauna Loa CO2 1959-2022\")"
   ]
  },
  {
   "cell_type": "markdown",
   "id": "da87956f-2ae1-4fb6-bc45-643e628a4922",
   "metadata": {},
   "source": [
    "### Scatter Plots `.scatter(x1,y1)`"
   ]
  },
  {
   "cell_type": "markdown",
   "id": "f0854b4c-ad77-4663-b0d1-706a9ea47d37",
   "metadata": {},
   "source": [
    "Using similar syntax, we can call the `.scatter` function"
   ]
  },
  {
   "cell_type": "code",
   "execution_count": 23,
   "id": "57dabf4a-b502-46da-b7e8-a1bc21dd361c",
   "metadata": {},
   "outputs": [
    {
     "data": {
      "text/plain": [
       "<matplotlib.collections.PathCollection at 0x7fb8542e2520>"
      ]
     },
     "execution_count": 23,
     "metadata": {},
     "output_type": "execute_result"
    },
    {
     "data": {
      "image/png": "[encoded data removed]",
      "text/plain": [
       "<Figure size 640x480 with 1 Axes>"
      ]
     },
     "metadata": {},
     "output_type": "display_data"
    }
   ],
   "source": [
    "plt.scatter(years,co2_am,marker='o',edgecolors='red',facecolors='red')"
   ]
  },
  {
   "cell_type": "markdown",
   "id": "1cf948ea-a305-4160-a060-59c4512fc898",
   "metadata": {},
   "source": [
    "Scatter plots are good if you have a lot of samples that result in noisy data. We can also adjust the axes and add labels to this graph as for the previous examples."
   ]
  },
  {
   "cell_type": "markdown",
   "id": "ab1fd06d-3616-4723-8481-eb92ac816081",
   "metadata": {},
   "source": [
    "## CONUS Precipitation Example: Plotting 2-D and 3-D Arrays, Geospatial Data"
   ]
  },
  {
   "cell_type": "markdown",
   "id": "a33d781f-dd94-4a65-bff5-489cc62ce432",
   "metadata": {},
   "source": [
    "### NetCDF Files"
   ]
  },
  {
   "cell_type": "markdown",
   "id": "d0f94e2b-5977-4d0e-8885-493c981216f6",
   "metadata": {},
   "source": [
    "Larger datasets (e.g., from satellite) are typically stored as **NetCDF files**. This format allows the creator to save n-dimensional data arrays and include additional information about the content. Let's read a NetCDF file that contains monthly average precipitation over CONUS for 70 years."
   ]
  },
  {
   "cell_type": "code",
   "execution_count": 24,
   "id": "9d41003c-03c7-4679-b088-4516484a515d",
   "metadata": {},
   "outputs": [],
   "source": [
    "# you may need to install netCDF4\n",
    "import netCDF4\n",
    "fname = \"precip.V1.0.mon.mean2020.nc\"\n",
    "nc_dataset = netCDF4.Dataset(fname,'r')"
   ]
  },
  {
   "cell_type": "code",
   "execution_count": 25,
   "id": "dc3095a6-8215-499d-a071-813728ded406",
   "metadata": {},
   "outputs": [
    {
     "data": {
      "text/plain": [
       "<class 'netCDF4._netCDF4.Dataset'>\n",
       "root group (NETCDF4_CLASSIC data model, file format HDF5):\n",
       "    title: CPC Unified Gauge-Based Analysis of Daily Precipitation over CONUS at PSD: Monthly Values\n",
       "    Conventions: COARDS\n",
       "    history: created 05/2012 by CAS from data obtained at NOAA NCEP/CPC\n",
       "    description: CPC Unified Gauge-Based Analysis of Daily Precipitation over CONUS at PSD: Gridded Monthly Values. Monthly Values after 2006 are from the real time files (RT)\n",
       "    platform: Observations\n",
       "    Comments: Preciptation is accumulated from 12z of previous day to 12z of day stored\n",
       "    References: http://www.esrl.noaa.gov/psd/data/gridded/data.unified.daily.conus.html\n",
       "    dataset_title: CPC Unified Gauge-Based Analysis of Daily Precipitation over CONUS\n",
       "    dimensions(sizes): lon(300), lat(120), time(846)\n",
       "    variables(dimensions): float32 lat(lat), float32 lon(lon), float64 time(time), float32 precip(time, lat, lon)\n",
       "    groups: "
      ]
     },
     "execution_count": 25,
     "metadata": {},
     "output_type": "execute_result"
    }
   ],
   "source": [
    "nc_dataset"
   ]
  },
  {
   "cell_type": "markdown",
   "id": "5b1ebe42-2488-4b55-a6de-e45d60815174",
   "metadata": {},
   "source": [
    "This tells us that there are four variables: lat, lon, time, and precip (which has dimensions of time x lat x lon). We are going to extract each of them using the `.variables` command:"
   ]
  },
  {
   "cell_type": "code",
   "execution_count": 28,
   "id": "184a28ed-302c-4bd4-8c65-927f33a2837d",
   "metadata": {},
   "outputs": [
    {
     "name": "stderr",
     "output_type": "stream",
     "text": [
      "/var/folders/9m/twr5jbzx3hz5jtltncq1bkyh0000gn/T/ipykernel_89654/2939468507.py:1: UserWarning: WARNING: missing_value not used since it\n",
      "cannot be safely cast to variable data type\n",
      "  precip = nc_dataset.variables['precip'][:]\n"
     ]
    }
   ],
   "source": [
    "precip = nc_dataset.variables['precip'][:]"
   ]
  },
  {
   "cell_type": "code",
   "execution_count": 29,
   "id": "1cf43d0e-eeba-42b6-8f6a-1e0a1a47ac71",
   "metadata": {},
   "outputs": [
    {
     "data": {
      "text/plain": [
       "masked_array(\n",
       "  data=[[[--, --, --, ..., --, --, --],\n",
       "         [--, --, --, ..., --, --, --],\n",
       "         [--, --, --, ..., --, --, --],\n",
       "         ...,\n",
       "         [--, --, --, ..., --, --, --],\n",
       "         [--, --, --, ..., --, --, --],\n",
       "         [--, --, --, ..., --, --, --]],\n",
       "\n",
       "        [[--, --, --, ..., --, --, --],\n",
       "         [--, --, --, ..., --, --, --],\n",
       "         [--, --, --, ..., --, --, --],\n",
       "         ...,\n",
       "         [--, --, --, ..., --, --, --],\n",
       "         [--, --, --, ..., --, --, --],\n",
       "         [--, --, --, ..., --, --, --]],\n",
       "\n",
       "        [[--, --, --, ..., --, --, --],\n",
       "         [--, --, --, ..., --, --, --],\n",
       "         [--, --, --, ..., --, --, --],\n",
       "         ...,\n",
       "         [--, --, --, ..., --, --, --],\n",
       "         [--, --, --, ..., --, --, --],\n",
       "         [--, --, --, ..., --, --, --]],\n",
       "\n",
       "        ...,\n",
       "\n",
       "        [[--, --, --, ..., --, --, --],\n",
       "         [--, --, --, ..., --, --, --],\n",
       "         [--, --, --, ..., --, --, --],\n",
       "         ...,\n",
       "         [--, --, --, ..., --, --, --],\n",
       "         [--, --, --, ..., --, --, --],\n",
       "         [--, --, --, ..., --, --, --]],\n",
       "\n",
       "        [[--, --, --, ..., --, --, --],\n",
       "         [--, --, --, ..., --, --, --],\n",
       "         [--, --, --, ..., --, --, --],\n",
       "         ...,\n",
       "         [--, --, --, ..., --, --, --],\n",
       "         [--, --, --, ..., --, --, --],\n",
       "         [--, --, --, ..., --, --, --]],\n",
       "\n",
       "        [[--, --, --, ..., --, --, --],\n",
       "         [--, --, --, ..., --, --, --],\n",
       "         [--, --, --, ..., --, --, --],\n",
       "         ...,\n",
       "         [--, --, --, ..., --, --, --],\n",
       "         [--, --, --, ..., --, --, --],\n",
       "         [--, --, --, ..., --, --, --]]],\n",
       "  mask=[[[ True,  True,  True, ...,  True,  True,  True],\n",
       "         [ True,  True,  True, ...,  True,  True,  True],\n",
       "         [ True,  True,  True, ...,  True,  True,  True],\n",
       "         ...,\n",
       "         [ True,  True,  True, ...,  True,  True,  True],\n",
       "         [ True,  True,  True, ...,  True,  True,  True],\n",
       "         [ True,  True,  True, ...,  True,  True,  True]],\n",
       "\n",
       "        [[ True,  True,  True, ...,  True,  True,  True],\n",
       "         [ True,  True,  True, ...,  True,  True,  True],\n",
       "         [ True,  True,  True, ...,  True,  True,  True],\n",
       "         ...,\n",
       "         [ True,  True,  True, ...,  True,  True,  True],\n",
       "         [ True,  True,  True, ...,  True,  True,  True],\n",
       "         [ True,  True,  True, ...,  True,  True,  True]],\n",
       "\n",
       "        [[ True,  True,  True, ...,  True,  True,  True],\n",
       "         [ True,  True,  True, ...,  True,  True,  True],\n",
       "         [ True,  True,  True, ...,  True,  True,  True],\n",
       "         ...,\n",
       "         [ True,  True,  True, ...,  True,  True,  True],\n",
       "         [ True,  True,  True, ...,  True,  True,  True],\n",
       "         [ True,  True,  True, ...,  True,  True,  True]],\n",
       "\n",
       "        ...,\n",
       "\n",
       "        [[ True,  True,  True, ...,  True,  True,  True],\n",
       "         [ True,  True,  True, ...,  True,  True,  True],\n",
       "         [ True,  True,  True, ...,  True,  True,  True],\n",
       "         ...,\n",
       "         [ True,  True,  True, ...,  True,  True,  True],\n",
       "         [ True,  True,  True, ...,  True,  True,  True],\n",
       "         [ True,  True,  True, ...,  True,  True,  True]],\n",
       "\n",
       "        [[ True,  True,  True, ...,  True,  True,  True],\n",
       "         [ True,  True,  True, ...,  True,  True,  True],\n",
       "         [ True,  True,  True, ...,  True,  True,  True],\n",
       "         ...,\n",
       "         [ True,  True,  True, ...,  True,  True,  True],\n",
       "         [ True,  True,  True, ...,  True,  True,  True],\n",
       "         [ True,  True,  True, ...,  True,  True,  True]],\n",
       "\n",
       "        [[ True,  True,  True, ...,  True,  True,  True],\n",
       "         [ True,  True,  True, ...,  True,  True,  True],\n",
       "         [ True,  True,  True, ...,  True,  True,  True],\n",
       "         ...,\n",
       "         [ True,  True,  True, ...,  True,  True,  True],\n",
       "         [ True,  True,  True, ...,  True,  True,  True],\n",
       "         [ True,  True,  True, ...,  True,  True,  True]]],\n",
       "  fill_value=9.96921e+36,\n",
       "  dtype=float32)"
      ]
     },
     "execution_count": 29,
     "metadata": {},
     "output_type": "execute_result"
    }
   ],
   "source": [
    "precip"
   ]
  },
  {
   "cell_type": "markdown",
   "id": "72a52fc3-2a45-45d5-b17c-43c8a7cae9f3",
   "metadata": {},
   "source": [
    "Looks like there are some placeholders for missing values that are causing issues. We're going to replace their missing value with `nan`s"
   ]
  },
  {
   "cell_type": "code",
   "execution_count": 45,
   "id": "ba2c6ce1-6d41-43ac-b9e0-4589a723f5f1",
   "metadata": {},
   "outputs": [],
   "source": [
    "missing_value = nc_dataset.variables['precip'].getncattr('missing_value')\n",
    "precip.data[np.where(precip.data == missing_value)] = np.nan\n",
    "precip = precip.data"
   ]
  },
  {
   "cell_type": "code",
   "execution_count": 46,
   "id": "2068591a-4f70-4108-a765-dc7d8b1c4299",
   "metadata": {},
   "outputs": [
    {
     "data": {
      "text/plain": [
       "array([[[nan, nan, nan, ..., nan, nan, nan],\n",
       "        [nan, nan, nan, ..., nan, nan, nan],\n",
       "        [nan, nan, nan, ..., nan, nan, nan],\n",
       "        ...,\n",
       "        [nan, nan, nan, ..., nan, nan, nan],\n",
       "        [nan, nan, nan, ..., nan, nan, nan],\n",
       "        [nan, nan, nan, ..., nan, nan, nan]],\n",
       "\n",
       "       [[nan, nan, nan, ..., nan, nan, nan],\n",
       "        [nan, nan, nan, ..., nan, nan, nan],\n",
       "        [nan, nan, nan, ..., nan, nan, nan],\n",
       "        ...,\n",
       "        [nan, nan, nan, ..., nan, nan, nan],\n",
       "        [nan, nan, nan, ..., nan, nan, nan],\n",
       "        [nan, nan, nan, ..., nan, nan, nan]],\n",
       "\n",
       "       [[nan, nan, nan, ..., nan, nan, nan],\n",
       "        [nan, nan, nan, ..., nan, nan, nan],\n",
       "        [nan, nan, nan, ..., nan, nan, nan],\n",
       "        ...,\n",
       "        [nan, nan, nan, ..., nan, nan, nan],\n",
       "        [nan, nan, nan, ..., nan, nan, nan],\n",
       "        [nan, nan, nan, ..., nan, nan, nan]],\n",
       "\n",
       "       ...,\n",
       "\n",
       "       [[nan, nan, nan, ..., nan, nan, nan],\n",
       "        [nan, nan, nan, ..., nan, nan, nan],\n",
       "        [nan, nan, nan, ..., nan, nan, nan],\n",
       "        ...,\n",
       "        [nan, nan, nan, ..., nan, nan, nan],\n",
       "        [nan, nan, nan, ..., nan, nan, nan],\n",
       "        [nan, nan, nan, ..., nan, nan, nan]],\n",
       "\n",
       "       [[nan, nan, nan, ..., nan, nan, nan],\n",
       "        [nan, nan, nan, ..., nan, nan, nan],\n",
       "        [nan, nan, nan, ..., nan, nan, nan],\n",
       "        ...,\n",
       "        [nan, nan, nan, ..., nan, nan, nan],\n",
       "        [nan, nan, nan, ..., nan, nan, nan],\n",
       "        [nan, nan, nan, ..., nan, nan, nan]],\n",
       "\n",
       "       [[nan, nan, nan, ..., nan, nan, nan],\n",
       "        [nan, nan, nan, ..., nan, nan, nan],\n",
       "        [nan, nan, nan, ..., nan, nan, nan],\n",
       "        ...,\n",
       "        [nan, nan, nan, ..., nan, nan, nan],\n",
       "        [nan, nan, nan, ..., nan, nan, nan],\n",
       "        [nan, nan, nan, ..., nan, nan, nan]]], dtype=float32)"
      ]
     },
     "execution_count": 46,
     "metadata": {},
     "output_type": "execute_result"
    }
   ],
   "source": [
    "precip"
   ]
  },
  {
   "cell_type": "code",
   "execution_count": 49,
   "id": "50ab901a-5e40-4993-973b-ca58f2b62070",
   "metadata": {},
   "outputs": [],
   "source": [
    "lats = nc_dataset.variables['lat'][:]\n",
    "lons = nc_dataset.variables['lon'][:]\n",
    "time = nc_dataset.variables['time'][:]"
   ]
  },
  {
   "cell_type": "code",
   "execution_count": 50,
   "id": "32f2fce8-3eed-49bb-a91a-08527183d137",
   "metadata": {},
   "outputs": [
    {
     "data": {
      "text/plain": [
       "(846, 120, 300)"
      ]
     },
     "execution_count": 50,
     "metadata": {},
     "output_type": "execute_result"
    }
   ],
   "source": [
    "precip.shape"
   ]
  },
  {
   "cell_type": "code",
   "execution_count": 51,
   "id": "e948c49d-610d-4832-bb83-9828f7fe1ed0",
   "metadata": {},
   "outputs": [
    {
     "data": {
      "text/plain": [
       "(120,)"
      ]
     },
     "execution_count": 51,
     "metadata": {},
     "output_type": "execute_result"
    }
   ],
   "source": [
    "lats.shape"
   ]
  },
  {
   "cell_type": "markdown",
   "id": "6aff6859-66e1-42fb-88f6-0acc624abb34",
   "metadata": {},
   "source": [
    "So we have a 846 x 120 x 300 (time x lat x lon) array called precip. We also have 1-D arrays that tell us what the time, lat, and lon indices are. One easy first step we can do is average across time and get the average precipitation over the entire time period for each grid point:"
   ]
  },
  {
   "cell_type": "code",
   "execution_count": 52,
   "id": "59840865-c804-45a1-bfd8-017dd827b66e",
   "metadata": {},
   "outputs": [
    {
     "name": "stderr",
     "output_type": "stream",
     "text": [
      "/var/folders/9m/twr5jbzx3hz5jtltncq1bkyh0000gn/T/ipykernel_89654/4082617870.py:1: RuntimeWarning: Mean of empty slice\n",
      "  precip_mean_all = np.nanmean(precip,axis=0)\n"
     ]
    }
   ],
   "source": [
    "precip_mean_all = np.nanmean(precip,axis=0)"
   ]
  },
  {
   "cell_type": "code",
   "execution_count": 55,
   "id": "04728a2d-a77b-4bc3-9414-0989e254c479",
   "metadata": {},
   "outputs": [
    {
     "data": {
      "text/plain": [
       "(120, 300)"
      ]
     },
     "execution_count": 55,
     "metadata": {},
     "output_type": "execute_result"
    }
   ],
   "source": [
    "precip_mean_all.shape # this should be a lat x lon array"
   ]
  },
  {
   "cell_type": "markdown",
   "id": "69f5877e-3830-435a-8381-2c965eff50b8",
   "metadata": {},
   "source": [
    "Something a little more difficult, but potentially more useful is to separate the data by month. To do that, we note that the time array starts and ends at:"
   ]
  },
  {
   "cell_type": "code",
   "execution_count": 56,
   "id": "90fb46b6-c18b-48a9-b0b4-1e7768fe6d05",
   "metadata": {},
   "outputs": [
    {
     "name": "stdout",
     "output_type": "stream",
     "text": [
      "2173896.0\n",
      "2791152.0\n"
     ]
    }
   ],
   "source": [
    "print(time[0])\n",
    "print(time[-1])"
   ]
  },
  {
   "cell_type": "markdown",
   "id": "02a681c4-413d-4548-99c5-2e217d344a80",
   "metadata": {},
   "source": [
    "What do these time stamps mean? To understand the units, we have to reference the NetCDF file data and find that the units of time are \"hours since 1/1/1700.\" What??"
   ]
  },
  {
   "cell_type": "code",
   "execution_count": 57,
   "id": "e5d2c533-ac42-45bc-b1f4-58ce4c64d5ae",
   "metadata": {},
   "outputs": [
    {
     "data": {
      "text/plain": [
       "<class 'netCDF4._netCDF4.Variable'>\n",
       "float64 time(time)\n",
       "    units: hours since 1700-1-1 00:00:0.0\n",
       "    long_name: Time\n",
       "    delta_t: 0000-01-00 00:00:00\n",
       "    avg_period: 0000-01-00 00:00:00\n",
       "    actual_range: [2173896. 2791152.]\n",
       "unlimited dimensions: time\n",
       "current shape = (846,)\n",
       "filling on, default _FillValue of 9.969209968386869e+36 used"
      ]
     },
     "execution_count": 57,
     "metadata": {},
     "output_type": "execute_result"
    }
   ],
   "source": [
    "nc_dataset.variables['time']"
   ]
  },
  {
   "cell_type": "markdown",
   "id": "a4e3943a-108a-4db2-9f8c-a3c25c035c2d",
   "metadata": {},
   "source": [
    "To get our time indices into a human-readable format, we're going to use the `datetime` module:"
   ]
  },
  {
   "cell_type": "code",
   "execution_count": 58,
   "id": "4bd7dcf7-577d-4971-8d8c-b6a82ceb66f9",
   "metadata": {},
   "outputs": [],
   "source": [
    "import datetime\n",
    "base_time = datetime.datetime(1700, 1, 1)\n",
    "time_conv = np.array([base_time + datetime.timedelta(hours=float(t)) for t in time])"
   ]
  },
  {
   "cell_type": "code",
   "execution_count": 59,
   "id": "76d38ee6-0a77-4774-918e-af69cae56ed8",
   "metadata": {},
   "outputs": [
    {
     "data": {
      "text/plain": [
       "array([datetime.datetime(1948, 1, 1, 0, 0),\n",
       "       datetime.datetime(1948, 2, 1, 0, 0),\n",
       "       datetime.datetime(1948, 3, 1, 0, 0),\n",
       "       datetime.datetime(1948, 4, 1, 0, 0),\n",
       "       datetime.datetime(1948, 5, 1, 0, 0),\n",
       "       datetime.datetime(1948, 6, 1, 0, 0),\n",
       "       datetime.datetime(1948, 7, 1, 0, 0),\n",
       "       datetime.datetime(1948, 8, 1, 0, 0),\n",
       "       datetime.datetime(1948, 9, 1, 0, 0),\n",
       "       datetime.datetime(1948, 10, 1, 0, 0),\n",
       "       datetime.datetime(1948, 11, 1, 0, 0),\n",
       "       datetime.datetime(1948, 12, 1, 0, 0),\n",
       "       datetime.datetime(1949, 1, 1, 0, 0),\n",
       "       datetime.datetime(1949, 2, 1, 0, 0),\n",
       "       datetime.datetime(1949, 3, 1, 0, 0),\n",
       "       datetime.datetime(1949, 4, 1, 0, 0),\n",
       "       datetime.datetime(1949, 5, 1, 0, 0),\n",
       "       datetime.datetime(1949, 6, 1, 0, 0),\n",
       "       datetime.datetime(1949, 7, 1, 0, 0),\n",
       "       datetime.datetime(1949, 8, 1, 0, 0),\n",
       "       datetime.datetime(1949, 9, 1, 0, 0),\n",
       "       datetime.datetime(1949, 10, 1, 0, 0),\n",
       "       datetime.datetime(1949, 11, 1, 0, 0),\n",
       "       datetime.datetime(1949, 12, 1, 0, 0),\n",
       "       datetime.datetime(1950, 1, 1, 0, 0),\n",
       "       datetime.datetime(1950, 2, 1, 0, 0),\n",
       "       datetime.datetime(1950, 3, 1, 0, 0),\n",
       "       datetime.datetime(1950, 4, 1, 0, 0),\n",
       "       datetime.datetime(1950, 5, 1, 0, 0),\n",
       "       datetime.datetime(1950, 6, 1, 0, 0),\n",
       "       datetime.datetime(1950, 7, 1, 0, 0),\n",
       "       datetime.datetime(1950, 8, 1, 0, 0),\n",
       "       datetime.datetime(1950, 9, 1, 0, 0),\n",
       "       datetime.datetime(1950, 10, 1, 0, 0),\n",
       "       datetime.datetime(1950, 11, 1, 0, 0),\n",
       "       datetime.datetime(1950, 12, 1, 0, 0),\n",
       "       datetime.datetime(1951, 1, 1, 0, 0),\n",
       "       datetime.datetime(1951, 2, 1, 0, 0),\n",
       "       datetime.datetime(1951, 3, 1, 0, 0),\n",
       "       datetime.datetime(1951, 4, 1, 0, 0),\n",
       "       datetime.datetime(1951, 5, 1, 0, 0),\n",
       "       datetime.datetime(1951, 6, 1, 0, 0),\n",
       "       datetime.datetime(1951, 7, 1, 0, 0),\n",
       "       datetime.datetime(1951, 8, 1, 0, 0),\n",
       "       datetime.datetime(1951, 9, 1, 0, 0),\n",
       "       datetime.datetime(1951, 10, 1, 0, 0),\n",
       "       datetime.datetime(1951, 11, 1, 0, 0),\n",
       "       datetime.datetime(1951, 12, 1, 0, 0),\n",
       "       datetime.datetime(1952, 1, 1, 0, 0),\n",
       "       datetime.datetime(1952, 2, 1, 0, 0),\n",
       "       datetime.datetime(1952, 3, 1, 0, 0),\n",
       "       datetime.datetime(1952, 4, 1, 0, 0),\n",
       "       datetime.datetime(1952, 5, 1, 0, 0),\n",
       "       datetime.datetime(1952, 6, 1, 0, 0),\n",
       "       datetime.datetime(1952, 7, 1, 0, 0),\n",
       "       datetime.datetime(1952, 8, 1, 0, 0),\n",
       "       datetime.datetime(1952, 9, 1, 0, 0),\n",
       "       datetime.datetime(1952, 10, 1, 0, 0),\n",
       "       datetime.datetime(1952, 11, 1, 0, 0),\n",
       "       datetime.datetime(1952, 12, 1, 0, 0),\n",
       "       datetime.datetime(1953, 1, 1, 0, 0),\n",
       "       datetime.datetime(1953, 2, 1, 0, 0),\n",
       "       datetime.datetime(1953, 3, 1, 0, 0),\n",
       "       datetime.datetime(1953, 4, 1, 0, 0),\n",
       "       datetime.datetime(1953, 5, 1, 0, 0),\n",
       "       datetime.datetime(1953, 6, 1, 0, 0),\n",
       "       datetime.datetime(1953, 7, 1, 0, 0),\n",
       "       datetime.datetime(1953, 8, 1, 0, 0),\n",
       "       datetime.datetime(1953, 9, 1, 0, 0),\n",
       "       datetime.datetime(1953, 10, 1, 0, 0),\n",
       "       datetime.datetime(1953, 11, 1, 0, 0),\n",
       "       datetime.datetime(1953, 12, 1, 0, 0),\n",
       "       datetime.datetime(1954, 1, 1, 0, 0),\n",
       "       datetime.datetime(1954, 2, 1, 0, 0),\n",
       "       datetime.datetime(1954, 3, 1, 0, 0),\n",
       "       datetime.datetime(1954, 4, 1, 0, 0),\n",
       "       datetime.datetime(1954, 5, 1, 0, 0),\n",
       "       datetime.datetime(1954, 6, 1, 0, 0),\n",
       "       datetime.datetime(1954, 7, 1, 0, 0),\n",
       "       datetime.datetime(1954, 8, 1, 0, 0),\n",
       "       datetime.datetime(1954, 9, 1, 0, 0),\n",
       "       datetime.datetime(1954, 10, 1, 0, 0),\n",
       "       datetime.datetime(1954, 11, 1, 0, 0),\n",
       "       datetime.datetime(1954, 12, 1, 0, 0),\n",
       "       datetime.datetime(1955, 1, 1, 0, 0),\n",
       "       datetime.datetime(1955, 2, 1, 0, 0),\n",
       "       datetime.datetime(1955, 3, 1, 0, 0),\n",
       "       datetime.datetime(1955, 4, 1, 0, 0),\n",
       "       datetime.datetime(1955, 5, 1, 0, 0),\n",
       "       datetime.datetime(1955, 6, 1, 0, 0),\n",
       "       datetime.datetime(1955, 7, 1, 0, 0),\n",
       "       datetime.datetime(1955, 8, 1, 0, 0),\n",
       "       datetime.datetime(1955, 9, 1, 0, 0),\n",
       "       datetime.datetime(1955, 10, 1, 0, 0),\n",
       "       datetime.datetime(1955, 11, 1, 0, 0),\n",
       "       datetime.datetime(1955, 12, 1, 0, 0),\n",
       "       datetime.datetime(1956, 1, 1, 0, 0),\n",
       "       datetime.datetime(1956, 2, 1, 0, 0),\n",
       "       datetime.datetime(1956, 3, 1, 0, 0),\n",
       "       datetime.datetime(1956, 4, 1, 0, 0),\n",
       "       datetime.datetime(1956, 5, 1, 0, 0),\n",
       "       datetime.datetime(1956, 6, 1, 0, 0),\n",
       "       datetime.datetime(1956, 7, 1, 0, 0),\n",
       "       datetime.datetime(1956, 8, 1, 0, 0),\n",
       "       datetime.datetime(1956, 9, 1, 0, 0),\n",
       "       datetime.datetime(1956, 10, 1, 0, 0),\n",
       "       datetime.datetime(1956, 11, 1, 0, 0),\n",
       "       datetime.datetime(1956, 12, 1, 0, 0),\n",
       "       datetime.datetime(1957, 1, 1, 0, 0),\n",
       "       datetime.datetime(1957, 2, 1, 0, 0),\n",
       "       datetime.datetime(1957, 3, 1, 0, 0),\n",
       "       datetime.datetime(1957, 4, 1, 0, 0),\n",
       "       datetime.datetime(1957, 5, 1, 0, 0),\n",
       "       datetime.datetime(1957, 6, 1, 0, 0),\n",
       "       datetime.datetime(1957, 7, 1, 0, 0),\n",
       "       datetime.datetime(1957, 8, 1, 0, 0),\n",
       "       datetime.datetime(1957, 9, 1, 0, 0),\n",
       "       datetime.datetime(1957, 10, 1, 0, 0),\n",
       "       datetime.datetime(1957, 11, 1, 0, 0),\n",
       "       datetime.datetime(1957, 12, 1, 0, 0),\n",
       "       datetime.datetime(1958, 1, 1, 0, 0),\n",
       "       datetime.datetime(1958, 2, 1, 0, 0),\n",
       "       datetime.datetime(1958, 3, 1, 0, 0),\n",
       "       datetime.datetime(1958, 4, 1, 0, 0),\n",
       "       datetime.datetime(1958, 5, 1, 0, 0),\n",
       "       datetime.datetime(1958, 6, 1, 0, 0),\n",
       "       datetime.datetime(1958, 7, 1, 0, 0),\n",
       "       datetime.datetime(1958, 8, 1, 0, 0),\n",
       "       datetime.datetime(1958, 9, 1, 0, 0),\n",
       "       datetime.datetime(1958, 10, 1, 0, 0),\n",
       "       datetime.datetime(1958, 11, 1, 0, 0),\n",
       "       datetime.datetime(1958, 12, 1, 0, 0),\n",
       "       datetime.datetime(1959, 1, 1, 0, 0),\n",
       "       datetime.datetime(1959, 2, 1, 0, 0),\n",
       "       datetime.datetime(1959, 3, 1, 0, 0),\n",
       "       datetime.datetime(1959, 4, 1, 0, 0),\n",
       "       datetime.datetime(1959, 5, 1, 0, 0),\n",
       "       datetime.datetime(1959, 6, 1, 0, 0),\n",
       "       datetime.datetime(1959, 7, 1, 0, 0),\n",
       "       datetime.datetime(1959, 8, 1, 0, 0),\n",
       "       datetime.datetime(1959, 9, 1, 0, 0),\n",
       "       datetime.datetime(1959, 10, 1, 0, 0),\n",
       "       datetime.datetime(1959, 11, 1, 0, 0),\n",
       "       datetime.datetime(1959, 12, 1, 0, 0),\n",
       "       datetime.datetime(1960, 1, 1, 0, 0),\n",
       "       datetime.datetime(1960, 2, 1, 0, 0),\n",
       "       datetime.datetime(1960, 3, 1, 0, 0),\n",
       "       datetime.datetime(1960, 4, 1, 0, 0),\n",
       "       datetime.datetime(1960, 5, 1, 0, 0),\n",
       "       datetime.datetime(1960, 6, 1, 0, 0),\n",
       "       datetime.datetime(1960, 7, 1, 0, 0),\n",
       "       datetime.datetime(1960, 8, 1, 0, 0),\n",
       "       datetime.datetime(1960, 9, 1, 0, 0),\n",
       "       datetime.datetime(1960, 10, 1, 0, 0),\n",
       "       datetime.datetime(1960, 11, 1, 0, 0),\n",
       "       datetime.datetime(1960, 12, 1, 0, 0),\n",
       "       datetime.datetime(1961, 1, 1, 0, 0),\n",
       "       datetime.datetime(1961, 2, 1, 0, 0),\n",
       "       datetime.datetime(1961, 3, 1, 0, 0),\n",
       "       datetime.datetime(1961, 4, 1, 0, 0),\n",
       "       datetime.datetime(1961, 5, 1, 0, 0),\n",
       "       datetime.datetime(1961, 6, 1, 0, 0),\n",
       "       datetime.datetime(1961, 7, 1, 0, 0),\n",
       "       datetime.datetime(1961, 8, 1, 0, 0),\n",
       "       datetime.datetime(1961, 9, 1, 0, 0),\n",
       "       datetime.datetime(1961, 10, 1, 0, 0),\n",
       "       datetime.datetime(1961, 11, 1, 0, 0),\n",
       "       datetime.datetime(1961, 12, 1, 0, 0),\n",
       "       datetime.datetime(1962, 1, 1, 0, 0),\n",
       "       datetime.datetime(1962, 2, 1, 0, 0),\n",
       "       datetime.datetime(1962, 3, 1, 0, 0),\n",
       "       datetime.datetime(1962, 4, 1, 0, 0),\n",
       "       datetime.datetime(1962, 5, 1, 0, 0),\n",
       "       datetime.datetime(1962, 6, 1, 0, 0),\n",
       "       datetime.datetime(1962, 7, 1, 0, 0),\n",
       "       datetime.datetime(1962, 8, 1, 0, 0),\n",
       "       datetime.datetime(1962, 9, 1, 0, 0),\n",
       "       datetime.datetime(1962, 10, 1, 0, 0),\n",
       "       datetime.datetime(1962, 11, 1, 0, 0),\n",
       "       datetime.datetime(1962, 12, 1, 0, 0),\n",
       "       datetime.datetime(1963, 1, 1, 0, 0),\n",
       "       datetime.datetime(1963, 2, 1, 0, 0),\n",
       "       datetime.datetime(1963, 3, 1, 0, 0),\n",
       "       datetime.datetime(1963, 4, 1, 0, 0),\n",
       "       datetime.datetime(1963, 5, 1, 0, 0),\n",
       "       datetime.datetime(1963, 6, 1, 0, 0),\n",
       "       datetime.datetime(1963, 7, 1, 0, 0),\n",
       "       datetime.datetime(1963, 8, 1, 0, 0),\n",
       "       datetime.datetime(1963, 9, 1, 0, 0),\n",
       "       datetime.datetime(1963, 10, 1, 0, 0),\n",
       "       datetime.datetime(1963, 11, 1, 0, 0),\n",
       "       datetime.datetime(1963, 12, 1, 0, 0),\n",
       "       datetime.datetime(1964, 1, 1, 0, 0),\n",
       "       datetime.datetime(1964, 2, 1, 0, 0),\n",
       "       datetime.datetime(1964, 3, 1, 0, 0),\n",
       "       datetime.datetime(1964, 4, 1, 0, 0),\n",
       "       datetime.datetime(1964, 5, 1, 0, 0),\n",
       "       datetime.datetime(1964, 6, 1, 0, 0),\n",
       "       datetime.datetime(1964, 7, 1, 0, 0),\n",
       "       datetime.datetime(1964, 8, 1, 0, 0),\n",
       "       datetime.datetime(1964, 9, 1, 0, 0),\n",
       "       datetime.datetime(1964, 10, 1, 0, 0),\n",
       "       datetime.datetime(1964, 11, 1, 0, 0),\n",
       "       datetime.datetime(1964, 12, 1, 0, 0),\n",
       "       datetime.datetime(1965, 1, 1, 0, 0),\n",
       "       datetime.datetime(1965, 2, 1, 0, 0),\n",
       "       datetime.datetime(1965, 3, 1, 0, 0),\n",
       "       datetime.datetime(1965, 4, 1, 0, 0),\n",
       "       datetime.datetime(1965, 5, 1, 0, 0),\n",
       "       datetime.datetime(1965, 6, 1, 0, 0),\n",
       "       datetime.datetime(1965, 7, 1, 0, 0),\n",
       "       datetime.datetime(1965, 8, 1, 0, 0),\n",
       "       datetime.datetime(1965, 9, 1, 0, 0),\n",
       "       datetime.datetime(1965, 10, 1, 0, 0),\n",
       "       datetime.datetime(1965, 11, 1, 0, 0),\n",
       "       datetime.datetime(1965, 12, 1, 0, 0),\n",
       "       datetime.datetime(1966, 1, 1, 0, 0),\n",
       "       datetime.datetime(1966, 2, 1, 0, 0),\n",
       "       datetime.datetime(1966, 3, 1, 0, 0),\n",
       "       datetime.datetime(1966, 4, 1, 0, 0),\n",
       "       datetime.datetime(1966, 5, 1, 0, 0),\n",
       "       datetime.datetime(1966, 6, 1, 0, 0),\n",
       "       datetime.datetime(1966, 7, 1, 0, 0),\n",
       "       datetime.datetime(1966, 8, 1, 0, 0),\n",
       "       datetime.datetime(1966, 9, 1, 0, 0),\n",
       "       datetime.datetime(1966, 10, 1, 0, 0),\n",
       "       datetime.datetime(1966, 11, 1, 0, 0),\n",
       "       datetime.datetime(1966, 12, 1, 0, 0),\n",
       "       datetime.datetime(1967, 1, 1, 0, 0),\n",
       "       datetime.datetime(1967, 2, 1, 0, 0),\n",
       "       datetime.datetime(1967, 3, 1, 0, 0),\n",
       "       datetime.datetime(1967, 4, 1, 0, 0),\n",
       "       datetime.datetime(1967, 5, 1, 0, 0),\n",
       "       datetime.datetime(1967, 6, 1, 0, 0),\n",
       "       datetime.datetime(1967, 7, 1, 0, 0),\n",
       "       datetime.datetime(1967, 8, 1, 0, 0),\n",
       "       datetime.datetime(1967, 9, 1, 0, 0),\n",
       "       datetime.datetime(1967, 10, 1, 0, 0),\n",
       "       datetime.datetime(1967, 11, 1, 0, 0),\n",
       "       datetime.datetime(1967, 12, 1, 0, 0),\n",
       "       datetime.datetime(1968, 1, 1, 0, 0),\n",
       "       datetime.datetime(1968, 2, 1, 0, 0),\n",
       "       datetime.datetime(1968, 3, 1, 0, 0),\n",
       "       datetime.datetime(1968, 4, 1, 0, 0),\n",
       "       datetime.datetime(1968, 5, 1, 0, 0),\n",
       "       datetime.datetime(1968, 6, 1, 0, 0),\n",
       "       datetime.datetime(1968, 7, 1, 0, 0),\n",
       "       datetime.datetime(1968, 8, 1, 0, 0),\n",
       "       datetime.datetime(1968, 9, 1, 0, 0),\n",
       "       datetime.datetime(1968, 10, 1, 0, 0),\n",
       "       datetime.datetime(1968, 11, 1, 0, 0),\n",
       "       datetime.datetime(1968, 12, 1, 0, 0),\n",
       "       datetime.datetime(1969, 1, 1, 0, 0),\n",
       "       datetime.datetime(1969, 2, 1, 0, 0),\n",
       "       datetime.datetime(1969, 3, 1, 0, 0),\n",
       "       datetime.datetime(1969, 4, 1, 0, 0),\n",
       "       datetime.datetime(1969, 5, 1, 0, 0),\n",
       "       datetime.datetime(1969, 6, 1, 0, 0),\n",
       "       datetime.datetime(1969, 7, 1, 0, 0),\n",
       "       datetime.datetime(1969, 8, 1, 0, 0),\n",
       "       datetime.datetime(1969, 9, 1, 0, 0),\n",
       "       datetime.datetime(1969, 10, 1, 0, 0),\n",
       "       datetime.datetime(1969, 11, 1, 0, 0),\n",
       "       datetime.datetime(1969, 12, 1, 0, 0),\n",
       "       datetime.datetime(1970, 1, 1, 0, 0),\n",
       "       datetime.datetime(1970, 2, 1, 0, 0),\n",
       "       datetime.datetime(1970, 3, 1, 0, 0),\n",
       "       datetime.datetime(1970, 4, 1, 0, 0),\n",
       "       datetime.datetime(1970, 5, 1, 0, 0),\n",
       "       datetime.datetime(1970, 6, 1, 0, 0),\n",
       "       datetime.datetime(1970, 7, 1, 0, 0),\n",
       "       datetime.datetime(1970, 8, 1, 0, 0),\n",
       "       datetime.datetime(1970, 9, 1, 0, 0),\n",
       "       datetime.datetime(1970, 10, 1, 0, 0),\n",
       "       datetime.datetime(1970, 11, 1, 0, 0),\n",
       "       datetime.datetime(1970, 12, 1, 0, 0),\n",
       "       datetime.datetime(1971, 1, 1, 0, 0),\n",
       "       datetime.datetime(1971, 2, 1, 0, 0),\n",
       "       datetime.datetime(1971, 3, 1, 0, 0),\n",
       "       datetime.datetime(1971, 4, 1, 0, 0),\n",
       "       datetime.datetime(1971, 5, 1, 0, 0),\n",
       "       datetime.datetime(1971, 6, 1, 0, 0),\n",
       "       datetime.datetime(1971, 7, 1, 0, 0),\n",
       "       datetime.datetime(1971, 8, 1, 0, 0),\n",
       "       datetime.datetime(1971, 9, 1, 0, 0),\n",
       "       datetime.datetime(1971, 10, 1, 0, 0),\n",
       "       datetime.datetime(1971, 11, 1, 0, 0),\n",
       "       datetime.datetime(1971, 12, 1, 0, 0),\n",
       "       datetime.datetime(1972, 1, 1, 0, 0),\n",
       "       datetime.datetime(1972, 2, 1, 0, 0),\n",
       "       datetime.datetime(1972, 3, 1, 0, 0),\n",
       "       datetime.datetime(1972, 4, 1, 0, 0),\n",
       "       datetime.datetime(1972, 5, 1, 0, 0),\n",
       "       datetime.datetime(1972, 6, 1, 0, 0),\n",
       "       datetime.datetime(1972, 7, 1, 0, 0),\n",
       "       datetime.datetime(1972, 8, 1, 0, 0),\n",
       "       datetime.datetime(1972, 9, 1, 0, 0),\n",
       "       datetime.datetime(1972, 10, 1, 0, 0),\n",
       "       datetime.datetime(1972, 11, 1, 0, 0),\n",
       "       datetime.datetime(1972, 12, 1, 0, 0),\n",
       "       datetime.datetime(1973, 1, 1, 0, 0),\n",
       "       datetime.datetime(1973, 2, 1, 0, 0),\n",
       "       datetime.datetime(1973, 3, 1, 0, 0),\n",
       "       datetime.datetime(1973, 4, 1, 0, 0),\n",
       "       datetime.datetime(1973, 5, 1, 0, 0),\n",
       "       datetime.datetime(1973, 6, 1, 0, 0),\n",
       "       datetime.datetime(1973, 7, 1, 0, 0),\n",
       "       datetime.datetime(1973, 8, 1, 0, 0),\n",
       "       datetime.datetime(1973, 9, 1, 0, 0),\n",
       "       datetime.datetime(1973, 10, 1, 0, 0),\n",
       "       datetime.datetime(1973, 11, 1, 0, 0),\n",
       "       datetime.datetime(1973, 12, 1, 0, 0),\n",
       "       datetime.datetime(1974, 1, 1, 0, 0),\n",
       "       datetime.datetime(1974, 2, 1, 0, 0),\n",
       "       datetime.datetime(1974, 3, 1, 0, 0),\n",
       "       datetime.datetime(1974, 4, 1, 0, 0),\n",
       "       datetime.datetime(1974, 5, 1, 0, 0),\n",
       "       datetime.datetime(1974, 6, 1, 0, 0),\n",
       "       datetime.datetime(1974, 7, 1, 0, 0),\n",
       "       datetime.datetime(1974, 8, 1, 0, 0),\n",
       "       datetime.datetime(1974, 9, 1, 0, 0),\n",
       "       datetime.datetime(1974, 10, 1, 0, 0),\n",
       "       datetime.datetime(1974, 11, 1, 0, 0),\n",
       "       datetime.datetime(1974, 12, 1, 0, 0),\n",
       "       datetime.datetime(1975, 1, 1, 0, 0),\n",
       "       datetime.datetime(1975, 2, 1, 0, 0),\n",
       "       datetime.datetime(1975, 3, 1, 0, 0),\n",
       "       datetime.datetime(1975, 4, 1, 0, 0),\n",
       "       datetime.datetime(1975, 5, 1, 0, 0),\n",
       "       datetime.datetime(1975, 6, 1, 0, 0),\n",
       "       datetime.datetime(1975, 7, 1, 0, 0),\n",
       "       datetime.datetime(1975, 8, 1, 0, 0),\n",
       "       datetime.datetime(1975, 9, 1, 0, 0),\n",
       "       datetime.datetime(1975, 10, 1, 0, 0),\n",
       "       datetime.datetime(1975, 11, 1, 0, 0),\n",
       "       datetime.datetime(1975, 12, 1, 0, 0),\n",
       "       datetime.datetime(1976, 1, 1, 0, 0),\n",
       "       datetime.datetime(1976, 2, 1, 0, 0),\n",
       "       datetime.datetime(1976, 3, 1, 0, 0),\n",
       "       datetime.datetime(1976, 4, 1, 0, 0),\n",
       "       datetime.datetime(1976, 5, 1, 0, 0),\n",
       "       datetime.datetime(1976, 6, 1, 0, 0),\n",
       "       datetime.datetime(1976, 7, 1, 0, 0),\n",
       "       datetime.datetime(1976, 8, 1, 0, 0),\n",
       "       datetime.datetime(1976, 9, 1, 0, 0),\n",
       "       datetime.datetime(1976, 10, 1, 0, 0),\n",
       "       datetime.datetime(1976, 11, 1, 0, 0),\n",
       "       datetime.datetime(1976, 12, 1, 0, 0),\n",
       "       datetime.datetime(1977, 1, 1, 0, 0),\n",
       "       datetime.datetime(1977, 2, 1, 0, 0),\n",
       "       datetime.datetime(1977, 3, 1, 0, 0),\n",
       "       datetime.datetime(1977, 4, 1, 0, 0),\n",
       "       datetime.datetime(1977, 5, 1, 0, 0),\n",
       "       datetime.datetime(1977, 6, 1, 0, 0),\n",
       "       datetime.datetime(1977, 7, 1, 0, 0),\n",
       "       datetime.datetime(1977, 8, 1, 0, 0),\n",
       "       datetime.datetime(1977, 9, 1, 0, 0),\n",
       "       datetime.datetime(1977, 10, 1, 0, 0),\n",
       "       datetime.datetime(1977, 11, 1, 0, 0),\n",
       "       datetime.datetime(1977, 12, 1, 0, 0),\n",
       "       datetime.datetime(1978, 1, 1, 0, 0),\n",
       "       datetime.datetime(1978, 2, 1, 0, 0),\n",
       "       datetime.datetime(1978, 3, 1, 0, 0),\n",
       "       datetime.datetime(1978, 4, 1, 0, 0),\n",
       "       datetime.datetime(1978, 5, 1, 0, 0),\n",
       "       datetime.datetime(1978, 6, 1, 0, 0),\n",
       "       datetime.datetime(1978, 7, 1, 0, 0),\n",
       "       datetime.datetime(1978, 8, 1, 0, 0),\n",
       "       datetime.datetime(1978, 9, 1, 0, 0),\n",
       "       datetime.datetime(1978, 10, 1, 0, 0),\n",
       "       datetime.datetime(1978, 11, 1, 0, 0),\n",
       "       datetime.datetime(1978, 12, 1, 0, 0),\n",
       "       datetime.datetime(1979, 1, 1, 0, 0),\n",
       "       datetime.datetime(1979, 2, 1, 0, 0),\n",
       "       datetime.datetime(1979, 3, 1, 0, 0),\n",
       "       datetime.datetime(1979, 4, 1, 0, 0),\n",
       "       datetime.datetime(1979, 5, 1, 0, 0),\n",
       "       datetime.datetime(1979, 6, 1, 0, 0),\n",
       "       datetime.datetime(1979, 7, 1, 0, 0),\n",
       "       datetime.datetime(1979, 8, 1, 0, 0),\n",
       "       datetime.datetime(1979, 9, 1, 0, 0),\n",
       "       datetime.datetime(1979, 10, 1, 0, 0),\n",
       "       datetime.datetime(1979, 11, 1, 0, 0),\n",
       "       datetime.datetime(1979, 12, 1, 0, 0),\n",
       "       datetime.datetime(1980, 1, 1, 0, 0),\n",
       "       datetime.datetime(1980, 2, 1, 0, 0),\n",
       "       datetime.datetime(1980, 3, 1, 0, 0),\n",
       "       datetime.datetime(1980, 4, 1, 0, 0),\n",
       "       datetime.datetime(1980, 5, 1, 0, 0),\n",
       "       datetime.datetime(1980, 6, 1, 0, 0),\n",
       "       datetime.datetime(1980, 7, 1, 0, 0),\n",
       "       datetime.datetime(1980, 8, 1, 0, 0),\n",
       "       datetime.datetime(1980, 9, 1, 0, 0),\n",
       "       datetime.datetime(1980, 10, 1, 0, 0),\n",
       "       datetime.datetime(1980, 11, 1, 0, 0),\n",
       "       datetime.datetime(1980, 12, 1, 0, 0),\n",
       "       datetime.datetime(1981, 1, 1, 0, 0),\n",
       "       datetime.datetime(1981, 2, 1, 0, 0),\n",
       "       datetime.datetime(1981, 3, 1, 0, 0),\n",
       "       datetime.datetime(1981, 4, 1, 0, 0),\n",
       "       datetime.datetime(1981, 5, 1, 0, 0),\n",
       "       datetime.datetime(1981, 6, 1, 0, 0),\n",
       "       datetime.datetime(1981, 7, 1, 0, 0),\n",
       "       datetime.datetime(1981, 8, 1, 0, 0),\n",
       "       datetime.datetime(1981, 9, 1, 0, 0),\n",
       "       datetime.datetime(1981, 10, 1, 0, 0),\n",
       "       datetime.datetime(1981, 11, 1, 0, 0),\n",
       "       datetime.datetime(1981, 12, 1, 0, 0),\n",
       "       datetime.datetime(1982, 1, 1, 0, 0),\n",
       "       datetime.datetime(1982, 2, 1, 0, 0),\n",
       "       datetime.datetime(1982, 3, 1, 0, 0),\n",
       "       datetime.datetime(1982, 4, 1, 0, 0),\n",
       "       datetime.datetime(1982, 5, 1, 0, 0),\n",
       "       datetime.datetime(1982, 6, 1, 0, 0),\n",
       "       datetime.datetime(1982, 7, 1, 0, 0),\n",
       "       datetime.datetime(1982, 8, 1, 0, 0),\n",
       "       datetime.datetime(1982, 9, 1, 0, 0),\n",
       "       datetime.datetime(1982, 10, 1, 0, 0),\n",
       "       datetime.datetime(1982, 11, 1, 0, 0),\n",
       "       datetime.datetime(1982, 12, 1, 0, 0),\n",
       "       datetime.datetime(1983, 1, 1, 0, 0),\n",
       "       datetime.datetime(1983, 2, 1, 0, 0),\n",
       "       datetime.datetime(1983, 3, 1, 0, 0),\n",
       "       datetime.datetime(1983, 4, 1, 0, 0),\n",
       "       datetime.datetime(1983, 5, 1, 0, 0),\n",
       "       datetime.datetime(1983, 6, 1, 0, 0),\n",
       "       datetime.datetime(1983, 7, 1, 0, 0),\n",
       "       datetime.datetime(1983, 8, 1, 0, 0),\n",
       "       datetime.datetime(1983, 9, 1, 0, 0),\n",
       "       datetime.datetime(1983, 10, 1, 0, 0),\n",
       "       datetime.datetime(1983, 11, 1, 0, 0),\n",
       "       datetime.datetime(1983, 12, 1, 0, 0),\n",
       "       datetime.datetime(1984, 1, 1, 0, 0),\n",
       "       datetime.datetime(1984, 2, 1, 0, 0),\n",
       "       datetime.datetime(1984, 3, 1, 0, 0),\n",
       "       datetime.datetime(1984, 4, 1, 0, 0),\n",
       "       datetime.datetime(1984, 5, 1, 0, 0),\n",
       "       datetime.datetime(1984, 6, 1, 0, 0),\n",
       "       datetime.datetime(1984, 7, 1, 0, 0),\n",
       "       datetime.datetime(1984, 8, 1, 0, 0),\n",
       "       datetime.datetime(1984, 9, 1, 0, 0),\n",
       "       datetime.datetime(1984, 10, 1, 0, 0),\n",
       "       datetime.datetime(1984, 11, 1, 0, 0),\n",
       "       datetime.datetime(1984, 12, 1, 0, 0),\n",
       "       datetime.datetime(1985, 1, 1, 0, 0),\n",
       "       datetime.datetime(1985, 2, 1, 0, 0),\n",
       "       datetime.datetime(1985, 3, 1, 0, 0),\n",
       "       datetime.datetime(1985, 4, 1, 0, 0),\n",
       "       datetime.datetime(1985, 5, 1, 0, 0),\n",
       "       datetime.datetime(1985, 6, 1, 0, 0),\n",
       "       datetime.datetime(1985, 7, 1, 0, 0),\n",
       "       datetime.datetime(1985, 8, 1, 0, 0),\n",
       "       datetime.datetime(1985, 9, 1, 0, 0),\n",
       "       datetime.datetime(1985, 10, 1, 0, 0),\n",
       "       datetime.datetime(1985, 11, 1, 0, 0),\n",
       "       datetime.datetime(1985, 12, 1, 0, 0),\n",
       "       datetime.datetime(1986, 1, 1, 0, 0),\n",
       "       datetime.datetime(1986, 2, 1, 0, 0),\n",
       "       datetime.datetime(1986, 3, 1, 0, 0),\n",
       "       datetime.datetime(1986, 4, 1, 0, 0),\n",
       "       datetime.datetime(1986, 5, 1, 0, 0),\n",
       "       datetime.datetime(1986, 6, 1, 0, 0),\n",
       "       datetime.datetime(1986, 7, 1, 0, 0),\n",
       "       datetime.datetime(1986, 8, 1, 0, 0),\n",
       "       datetime.datetime(1986, 9, 1, 0, 0),\n",
       "       datetime.datetime(1986, 10, 1, 0, 0),\n",
       "       datetime.datetime(1986, 11, 1, 0, 0),\n",
       "       datetime.datetime(1986, 12, 1, 0, 0),\n",
       "       datetime.datetime(1987, 1, 1, 0, 0),\n",
       "       datetime.datetime(1987, 2, 1, 0, 0),\n",
       "       datetime.datetime(1987, 3, 1, 0, 0),\n",
       "       datetime.datetime(1987, 4, 1, 0, 0),\n",
       "       datetime.datetime(1987, 5, 1, 0, 0),\n",
       "       datetime.datetime(1987, 6, 1, 0, 0),\n",
       "       datetime.datetime(1987, 7, 1, 0, 0),\n",
       "       datetime.datetime(1987, 8, 1, 0, 0),\n",
       "       datetime.datetime(1987, 9, 1, 0, 0),\n",
       "       datetime.datetime(1987, 10, 1, 0, 0),\n",
       "       datetime.datetime(1987, 11, 1, 0, 0),\n",
       "       datetime.datetime(1987, 12, 1, 0, 0),\n",
       "       datetime.datetime(1988, 1, 1, 0, 0),\n",
       "       datetime.datetime(1988, 2, 1, 0, 0),\n",
       "       datetime.datetime(1988, 3, 1, 0, 0),\n",
       "       datetime.datetime(1988, 4, 1, 0, 0),\n",
       "       datetime.datetime(1988, 5, 1, 0, 0),\n",
       "       datetime.datetime(1988, 6, 1, 0, 0),\n",
       "       datetime.datetime(1988, 7, 1, 0, 0),\n",
       "       datetime.datetime(1988, 8, 1, 0, 0),\n",
       "       datetime.datetime(1988, 9, 1, 0, 0),\n",
       "       datetime.datetime(1988, 10, 1, 0, 0),\n",
       "       datetime.datetime(1988, 11, 1, 0, 0),\n",
       "       datetime.datetime(1988, 12, 1, 0, 0),\n",
       "       datetime.datetime(1989, 1, 1, 0, 0),\n",
       "       datetime.datetime(1989, 2, 1, 0, 0),\n",
       "       datetime.datetime(1989, 3, 1, 0, 0),\n",
       "       datetime.datetime(1989, 4, 1, 0, 0),\n",
       "       datetime.datetime(1989, 5, 1, 0, 0),\n",
       "       datetime.datetime(1989, 6, 1, 0, 0),\n",
       "       datetime.datetime(1989, 7, 1, 0, 0),\n",
       "       datetime.datetime(1989, 8, 1, 0, 0),\n",
       "       datetime.datetime(1989, 9, 1, 0, 0),\n",
       "       datetime.datetime(1989, 10, 1, 0, 0),\n",
       "       datetime.datetime(1989, 11, 1, 0, 0),\n",
       "       datetime.datetime(1989, 12, 1, 0, 0),\n",
       "       datetime.datetime(1990, 1, 1, 0, 0),\n",
       "       datetime.datetime(1990, 2, 1, 0, 0),\n",
       "       datetime.datetime(1990, 3, 1, 0, 0),\n",
       "       datetime.datetime(1990, 4, 1, 0, 0),\n",
       "       datetime.datetime(1990, 5, 1, 0, 0),\n",
       "       datetime.datetime(1990, 6, 1, 0, 0),\n",
       "       datetime.datetime(1990, 7, 1, 0, 0),\n",
       "       datetime.datetime(1990, 8, 1, 0, 0),\n",
       "       datetime.datetime(1990, 9, 1, 0, 0),\n",
       "       datetime.datetime(1990, 10, 1, 0, 0),\n",
       "       datetime.datetime(1990, 11, 1, 0, 0),\n",
       "       datetime.datetime(1990, 12, 1, 0, 0),\n",
       "       datetime.datetime(1991, 1, 1, 0, 0),\n",
       "       datetime.datetime(1991, 2, 1, 0, 0),\n",
       "       datetime.datetime(1991, 3, 1, 0, 0),\n",
       "       datetime.datetime(1991, 4, 1, 0, 0),\n",
       "       datetime.datetime(1991, 5, 1, 0, 0),\n",
       "       datetime.datetime(1991, 6, 1, 0, 0),\n",
       "       datetime.datetime(1991, 7, 1, 0, 0),\n",
       "       datetime.datetime(1991, 8, 1, 0, 0),\n",
       "       datetime.datetime(1991, 9, 1, 0, 0),\n",
       "       datetime.datetime(1991, 10, 1, 0, 0),\n",
       "       datetime.datetime(1991, 11, 1, 0, 0),\n",
       "       datetime.datetime(1991, 12, 1, 0, 0),\n",
       "       datetime.datetime(1992, 1, 1, 0, 0),\n",
       "       datetime.datetime(1992, 2, 1, 0, 0),\n",
       "       datetime.datetime(1992, 3, 1, 0, 0),\n",
       "       datetime.datetime(1992, 4, 1, 0, 0),\n",
       "       datetime.datetime(1992, 5, 1, 0, 0),\n",
       "       datetime.datetime(1992, 6, 1, 0, 0),\n",
       "       datetime.datetime(1992, 7, 1, 0, 0),\n",
       "       datetime.datetime(1992, 8, 1, 0, 0),\n",
       "       datetime.datetime(1992, 9, 1, 0, 0),\n",
       "       datetime.datetime(1992, 10, 1, 0, 0),\n",
       "       datetime.datetime(1992, 11, 1, 0, 0),\n",
       "       datetime.datetime(1992, 12, 1, 0, 0),\n",
       "       datetime.datetime(1993, 1, 1, 0, 0),\n",
       "       datetime.datetime(1993, 2, 1, 0, 0),\n",
       "       datetime.datetime(1993, 3, 1, 0, 0),\n",
       "       datetime.datetime(1993, 4, 1, 0, 0),\n",
       "       datetime.datetime(1993, 5, 1, 0, 0),\n",
       "       datetime.datetime(1993, 6, 1, 0, 0),\n",
       "       datetime.datetime(1993, 7, 1, 0, 0),\n",
       "       datetime.datetime(1993, 8, 1, 0, 0),\n",
       "       datetime.datetime(1993, 9, 1, 0, 0),\n",
       "       datetime.datetime(1993, 10, 1, 0, 0),\n",
       "       datetime.datetime(1993, 11, 1, 0, 0),\n",
       "       datetime.datetime(1993, 12, 1, 0, 0),\n",
       "       datetime.datetime(1994, 1, 1, 0, 0),\n",
       "       datetime.datetime(1994, 2, 1, 0, 0),\n",
       "       datetime.datetime(1994, 3, 1, 0, 0),\n",
       "       datetime.datetime(1994, 4, 1, 0, 0),\n",
       "       datetime.datetime(1994, 5, 1, 0, 0),\n",
       "       datetime.datetime(1994, 6, 1, 0, 0),\n",
       "       datetime.datetime(1994, 7, 1, 0, 0),\n",
       "       datetime.datetime(1994, 8, 1, 0, 0),\n",
       "       datetime.datetime(1994, 9, 1, 0, 0),\n",
       "       datetime.datetime(1994, 10, 1, 0, 0),\n",
       "       datetime.datetime(1994, 11, 1, 0, 0),\n",
       "       datetime.datetime(1994, 12, 1, 0, 0),\n",
       "       datetime.datetime(1995, 1, 1, 0, 0),\n",
       "       datetime.datetime(1995, 2, 1, 0, 0),\n",
       "       datetime.datetime(1995, 3, 1, 0, 0),\n",
       "       datetime.datetime(1995, 4, 1, 0, 0),\n",
       "       datetime.datetime(1995, 5, 1, 0, 0),\n",
       "       datetime.datetime(1995, 6, 1, 0, 0),\n",
       "       datetime.datetime(1995, 7, 1, 0, 0),\n",
       "       datetime.datetime(1995, 8, 1, 0, 0),\n",
       "       datetime.datetime(1995, 9, 1, 0, 0),\n",
       "       datetime.datetime(1995, 10, 1, 0, 0),\n",
       "       datetime.datetime(1995, 11, 1, 0, 0),\n",
       "       datetime.datetime(1995, 12, 1, 0, 0),\n",
       "       datetime.datetime(1996, 1, 1, 0, 0),\n",
       "       datetime.datetime(1996, 2, 1, 0, 0),\n",
       "       datetime.datetime(1996, 3, 1, 0, 0),\n",
       "       datetime.datetime(1996, 4, 1, 0, 0),\n",
       "       datetime.datetime(1996, 5, 1, 0, 0),\n",
       "       datetime.datetime(1996, 6, 1, 0, 0),\n",
       "       datetime.datetime(1996, 7, 1, 0, 0),\n",
       "       datetime.datetime(1996, 8, 1, 0, 0),\n",
       "       datetime.datetime(1996, 9, 1, 0, 0),\n",
       "       datetime.datetime(1996, 10, 1, 0, 0),\n",
       "       datetime.datetime(1996, 11, 1, 0, 0),\n",
       "       datetime.datetime(1996, 12, 1, 0, 0),\n",
       "       datetime.datetime(1997, 1, 1, 0, 0),\n",
       "       datetime.datetime(1997, 2, 1, 0, 0),\n",
       "       datetime.datetime(1997, 3, 1, 0, 0),\n",
       "       datetime.datetime(1997, 4, 1, 0, 0),\n",
       "       datetime.datetime(1997, 5, 1, 0, 0),\n",
       "       datetime.datetime(1997, 6, 1, 0, 0),\n",
       "       datetime.datetime(1997, 7, 1, 0, 0),\n",
       "       datetime.datetime(1997, 8, 1, 0, 0),\n",
       "       datetime.datetime(1997, 9, 1, 0, 0),\n",
       "       datetime.datetime(1997, 10, 1, 0, 0),\n",
       "       datetime.datetime(1997, 11, 1, 0, 0),\n",
       "       datetime.datetime(1997, 12, 1, 0, 0),\n",
       "       datetime.datetime(1998, 1, 1, 0, 0),\n",
       "       datetime.datetime(1998, 2, 1, 0, 0),\n",
       "       datetime.datetime(1998, 3, 1, 0, 0),\n",
       "       datetime.datetime(1998, 4, 1, 0, 0),\n",
       "       datetime.datetime(1998, 5, 1, 0, 0),\n",
       "       datetime.datetime(1998, 6, 1, 0, 0),\n",
       "       datetime.datetime(1998, 7, 1, 0, 0),\n",
       "       datetime.datetime(1998, 8, 1, 0, 0),\n",
       "       datetime.datetime(1998, 9, 1, 0, 0),\n",
       "       datetime.datetime(1998, 10, 1, 0, 0),\n",
       "       datetime.datetime(1998, 11, 1, 0, 0),\n",
       "       datetime.datetime(1998, 12, 1, 0, 0),\n",
       "       datetime.datetime(1999, 1, 1, 0, 0),\n",
       "       datetime.datetime(1999, 2, 1, 0, 0),\n",
       "       datetime.datetime(1999, 3, 1, 0, 0),\n",
       "       datetime.datetime(1999, 4, 1, 0, 0),\n",
       "       datetime.datetime(1999, 5, 1, 0, 0),\n",
       "       datetime.datetime(1999, 6, 1, 0, 0),\n",
       "       datetime.datetime(1999, 7, 1, 0, 0),\n",
       "       datetime.datetime(1999, 8, 1, 0, 0),\n",
       "       datetime.datetime(1999, 9, 1, 0, 0),\n",
       "       datetime.datetime(1999, 10, 1, 0, 0),\n",
       "       datetime.datetime(1999, 11, 1, 0, 0),\n",
       "       datetime.datetime(1999, 12, 1, 0, 0),\n",
       "       datetime.datetime(2000, 1, 1, 0, 0),\n",
       "       datetime.datetime(2000, 2, 1, 0, 0),\n",
       "       datetime.datetime(2000, 3, 1, 0, 0),\n",
       "       datetime.datetime(2000, 4, 1, 0, 0),\n",
       "       datetime.datetime(2000, 5, 1, 0, 0),\n",
       "       datetime.datetime(2000, 6, 1, 0, 0),\n",
       "       datetime.datetime(2000, 7, 1, 0, 0),\n",
       "       datetime.datetime(2000, 8, 1, 0, 0),\n",
       "       datetime.datetime(2000, 9, 1, 0, 0),\n",
       "       datetime.datetime(2000, 10, 1, 0, 0),\n",
       "       datetime.datetime(2000, 11, 1, 0, 0),\n",
       "       datetime.datetime(2000, 12, 1, 0, 0),\n",
       "       datetime.datetime(2001, 1, 1, 0, 0),\n",
       "       datetime.datetime(2001, 2, 1, 0, 0),\n",
       "       datetime.datetime(2001, 3, 1, 0, 0),\n",
       "       datetime.datetime(2001, 4, 1, 0, 0),\n",
       "       datetime.datetime(2001, 5, 1, 0, 0),\n",
       "       datetime.datetime(2001, 6, 1, 0, 0),\n",
       "       datetime.datetime(2001, 7, 1, 0, 0),\n",
       "       datetime.datetime(2001, 8, 1, 0, 0),\n",
       "       datetime.datetime(2001, 9, 1, 0, 0),\n",
       "       datetime.datetime(2001, 10, 1, 0, 0),\n",
       "       datetime.datetime(2001, 11, 1, 0, 0),\n",
       "       datetime.datetime(2001, 12, 1, 0, 0),\n",
       "       datetime.datetime(2002, 1, 1, 0, 0),\n",
       "       datetime.datetime(2002, 2, 1, 0, 0),\n",
       "       datetime.datetime(2002, 3, 1, 0, 0),\n",
       "       datetime.datetime(2002, 4, 1, 0, 0),\n",
       "       datetime.datetime(2002, 5, 1, 0, 0),\n",
       "       datetime.datetime(2002, 6, 1, 0, 0),\n",
       "       datetime.datetime(2002, 7, 1, 0, 0),\n",
       "       datetime.datetime(2002, 8, 1, 0, 0),\n",
       "       datetime.datetime(2002, 9, 1, 0, 0),\n",
       "       datetime.datetime(2002, 10, 1, 0, 0),\n",
       "       datetime.datetime(2002, 11, 1, 0, 0),\n",
       "       datetime.datetime(2002, 12, 1, 0, 0),\n",
       "       datetime.datetime(2003, 1, 1, 0, 0),\n",
       "       datetime.datetime(2003, 2, 1, 0, 0),\n",
       "       datetime.datetime(2003, 3, 1, 0, 0),\n",
       "       datetime.datetime(2003, 4, 1, 0, 0),\n",
       "       datetime.datetime(2003, 5, 1, 0, 0),\n",
       "       datetime.datetime(2003, 6, 1, 0, 0),\n",
       "       datetime.datetime(2003, 7, 1, 0, 0),\n",
       "       datetime.datetime(2003, 8, 1, 0, 0),\n",
       "       datetime.datetime(2003, 9, 1, 0, 0),\n",
       "       datetime.datetime(2003, 10, 1, 0, 0),\n",
       "       datetime.datetime(2003, 11, 1, 0, 0),\n",
       "       datetime.datetime(2003, 12, 1, 0, 0),\n",
       "       datetime.datetime(2004, 1, 1, 0, 0),\n",
       "       datetime.datetime(2004, 2, 1, 0, 0),\n",
       "       datetime.datetime(2004, 3, 1, 0, 0),\n",
       "       datetime.datetime(2004, 4, 1, 0, 0),\n",
       "       datetime.datetime(2004, 5, 1, 0, 0),\n",
       "       datetime.datetime(2004, 6, 1, 0, 0),\n",
       "       datetime.datetime(2004, 7, 1, 0, 0),\n",
       "       datetime.datetime(2004, 8, 1, 0, 0),\n",
       "       datetime.datetime(2004, 9, 1, 0, 0),\n",
       "       datetime.datetime(2004, 10, 1, 0, 0),\n",
       "       datetime.datetime(2004, 11, 1, 0, 0),\n",
       "       datetime.datetime(2004, 12, 1, 0, 0),\n",
       "       datetime.datetime(2005, 1, 1, 0, 0),\n",
       "       datetime.datetime(2005, 2, 1, 0, 0),\n",
       "       datetime.datetime(2005, 3, 1, 0, 0),\n",
       "       datetime.datetime(2005, 4, 1, 0, 0),\n",
       "       datetime.datetime(2005, 5, 1, 0, 0),\n",
       "       datetime.datetime(2005, 6, 1, 0, 0),\n",
       "       datetime.datetime(2005, 7, 1, 0, 0),\n",
       "       datetime.datetime(2005, 8, 1, 0, 0),\n",
       "       datetime.datetime(2005, 9, 1, 0, 0),\n",
       "       datetime.datetime(2005, 10, 1, 0, 0),\n",
       "       datetime.datetime(2005, 11, 1, 0, 0),\n",
       "       datetime.datetime(2005, 12, 1, 0, 0),\n",
       "       datetime.datetime(2006, 1, 1, 0, 0),\n",
       "       datetime.datetime(2006, 2, 1, 0, 0),\n",
       "       datetime.datetime(2006, 3, 1, 0, 0),\n",
       "       datetime.datetime(2006, 4, 1, 0, 0),\n",
       "       datetime.datetime(2006, 5, 1, 0, 0),\n",
       "       datetime.datetime(2006, 6, 1, 0, 0),\n",
       "       datetime.datetime(2006, 7, 1, 0, 0),\n",
       "       datetime.datetime(2006, 8, 1, 0, 0),\n",
       "       datetime.datetime(2006, 9, 1, 0, 0),\n",
       "       datetime.datetime(2006, 10, 1, 0, 0),\n",
       "       datetime.datetime(2006, 11, 1, 0, 0),\n",
       "       datetime.datetime(2006, 12, 1, 0, 0),\n",
       "       datetime.datetime(2007, 1, 1, 0, 0),\n",
       "       datetime.datetime(2007, 2, 1, 0, 0),\n",
       "       datetime.datetime(2007, 3, 1, 0, 0),\n",
       "       datetime.datetime(2007, 4, 1, 0, 0),\n",
       "       datetime.datetime(2007, 5, 1, 0, 0),\n",
       "       datetime.datetime(2007, 6, 1, 0, 0),\n",
       "       datetime.datetime(2007, 7, 1, 0, 0),\n",
       "       datetime.datetime(2007, 8, 1, 0, 0),\n",
       "       datetime.datetime(2007, 9, 1, 0, 0),\n",
       "       datetime.datetime(2007, 10, 1, 0, 0),\n",
       "       datetime.datetime(2007, 11, 1, 0, 0),\n",
       "       datetime.datetime(2007, 12, 1, 0, 0),\n",
       "       datetime.datetime(2008, 1, 1, 0, 0),\n",
       "       datetime.datetime(2008, 2, 1, 0, 0),\n",
       "       datetime.datetime(2008, 3, 1, 0, 0),\n",
       "       datetime.datetime(2008, 4, 1, 0, 0),\n",
       "       datetime.datetime(2008, 5, 1, 0, 0),\n",
       "       datetime.datetime(2008, 6, 1, 0, 0),\n",
       "       datetime.datetime(2008, 7, 1, 0, 0),\n",
       "       datetime.datetime(2008, 8, 1, 0, 0),\n",
       "       datetime.datetime(2008, 9, 1, 0, 0),\n",
       "       datetime.datetime(2008, 10, 1, 0, 0),\n",
       "       datetime.datetime(2008, 11, 1, 0, 0),\n",
       "       datetime.datetime(2008, 12, 1, 0, 0),\n",
       "       datetime.datetime(2009, 1, 1, 0, 0),\n",
       "       datetime.datetime(2009, 2, 1, 0, 0),\n",
       "       datetime.datetime(2009, 3, 1, 0, 0),\n",
       "       datetime.datetime(2009, 4, 1, 0, 0),\n",
       "       datetime.datetime(2009, 5, 1, 0, 0),\n",
       "       datetime.datetime(2009, 6, 1, 0, 0),\n",
       "       datetime.datetime(2009, 7, 1, 0, 0),\n",
       "       datetime.datetime(2009, 8, 1, 0, 0),\n",
       "       datetime.datetime(2009, 9, 1, 0, 0),\n",
       "       datetime.datetime(2009, 10, 1, 0, 0),\n",
       "       datetime.datetime(2009, 11, 1, 0, 0),\n",
       "       datetime.datetime(2009, 12, 1, 0, 0),\n",
       "       datetime.datetime(2010, 1, 1, 0, 0),\n",
       "       datetime.datetime(2010, 2, 1, 0, 0),\n",
       "       datetime.datetime(2010, 3, 1, 0, 0),\n",
       "       datetime.datetime(2010, 4, 1, 0, 0),\n",
       "       datetime.datetime(2010, 5, 1, 0, 0),\n",
       "       datetime.datetime(2010, 6, 1, 0, 0),\n",
       "       datetime.datetime(2010, 7, 1, 0, 0),\n",
       "       datetime.datetime(2010, 8, 1, 0, 0),\n",
       "       datetime.datetime(2010, 9, 1, 0, 0),\n",
       "       datetime.datetime(2010, 10, 1, 0, 0),\n",
       "       datetime.datetime(2010, 11, 1, 0, 0),\n",
       "       datetime.datetime(2010, 12, 1, 0, 0),\n",
       "       datetime.datetime(2011, 1, 1, 0, 0),\n",
       "       datetime.datetime(2011, 2, 1, 0, 0),\n",
       "       datetime.datetime(2011, 3, 1, 0, 0),\n",
       "       datetime.datetime(2011, 4, 1, 0, 0),\n",
       "       datetime.datetime(2011, 5, 1, 0, 0),\n",
       "       datetime.datetime(2011, 6, 1, 0, 0),\n",
       "       datetime.datetime(2011, 7, 1, 0, 0),\n",
       "       datetime.datetime(2011, 8, 1, 0, 0),\n",
       "       datetime.datetime(2011, 9, 1, 0, 0),\n",
       "       datetime.datetime(2011, 10, 1, 0, 0),\n",
       "       datetime.datetime(2011, 11, 1, 0, 0),\n",
       "       datetime.datetime(2011, 12, 1, 0, 0),\n",
       "       datetime.datetime(2012, 1, 1, 0, 0),\n",
       "       datetime.datetime(2012, 2, 1, 0, 0),\n",
       "       datetime.datetime(2012, 3, 1, 0, 0),\n",
       "       datetime.datetime(2012, 4, 1, 0, 0),\n",
       "       datetime.datetime(2012, 5, 1, 0, 0),\n",
       "       datetime.datetime(2012, 6, 1, 0, 0),\n",
       "       datetime.datetime(2012, 7, 1, 0, 0),\n",
       "       datetime.datetime(2012, 8, 1, 0, 0),\n",
       "       datetime.datetime(2012, 9, 1, 0, 0),\n",
       "       datetime.datetime(2012, 10, 1, 0, 0),\n",
       "       datetime.datetime(2012, 11, 1, 0, 0),\n",
       "       datetime.datetime(2012, 12, 1, 0, 0),\n",
       "       datetime.datetime(2013, 1, 1, 0, 0),\n",
       "       datetime.datetime(2013, 2, 1, 0, 0),\n",
       "       datetime.datetime(2013, 3, 1, 0, 0),\n",
       "       datetime.datetime(2013, 4, 1, 0, 0),\n",
       "       datetime.datetime(2013, 5, 1, 0, 0),\n",
       "       datetime.datetime(2013, 6, 1, 0, 0),\n",
       "       datetime.datetime(2013, 7, 1, 0, 0),\n",
       "       datetime.datetime(2013, 8, 1, 0, 0),\n",
       "       datetime.datetime(2013, 9, 1, 0, 0),\n",
       "       datetime.datetime(2013, 10, 1, 0, 0),\n",
       "       datetime.datetime(2013, 11, 1, 0, 0),\n",
       "       datetime.datetime(2013, 12, 1, 0, 0),\n",
       "       datetime.datetime(2014, 1, 1, 0, 0),\n",
       "       datetime.datetime(2014, 2, 1, 0, 0),\n",
       "       datetime.datetime(2014, 3, 1, 0, 0),\n",
       "       datetime.datetime(2014, 4, 1, 0, 0),\n",
       "       datetime.datetime(2014, 5, 1, 0, 0),\n",
       "       datetime.datetime(2014, 6, 1, 0, 0),\n",
       "       datetime.datetime(2014, 7, 1, 0, 0),\n",
       "       datetime.datetime(2014, 8, 1, 0, 0),\n",
       "       datetime.datetime(2014, 9, 1, 0, 0),\n",
       "       datetime.datetime(2014, 10, 1, 0, 0),\n",
       "       datetime.datetime(2014, 11, 1, 0, 0),\n",
       "       datetime.datetime(2014, 12, 1, 0, 0),\n",
       "       datetime.datetime(2015, 1, 1, 0, 0),\n",
       "       datetime.datetime(2015, 2, 1, 0, 0),\n",
       "       datetime.datetime(2015, 3, 1, 0, 0),\n",
       "       datetime.datetime(2015, 4, 1, 0, 0),\n",
       "       datetime.datetime(2015, 5, 1, 0, 0),\n",
       "       datetime.datetime(2015, 6, 1, 0, 0),\n",
       "       datetime.datetime(2015, 7, 1, 0, 0),\n",
       "       datetime.datetime(2015, 8, 1, 0, 0),\n",
       "       datetime.datetime(2015, 9, 1, 0, 0),\n",
       "       datetime.datetime(2015, 10, 1, 0, 0),\n",
       "       datetime.datetime(2015, 11, 1, 0, 0),\n",
       "       datetime.datetime(2015, 12, 1, 0, 0),\n",
       "       datetime.datetime(2016, 1, 1, 0, 0),\n",
       "       datetime.datetime(2016, 2, 1, 0, 0),\n",
       "       datetime.datetime(2016, 3, 1, 0, 0),\n",
       "       datetime.datetime(2016, 4, 1, 0, 0),\n",
       "       datetime.datetime(2016, 5, 1, 0, 0),\n",
       "       datetime.datetime(2016, 6, 1, 0, 0),\n",
       "       datetime.datetime(2016, 7, 1, 0, 0),\n",
       "       datetime.datetime(2016, 8, 1, 0, 0),\n",
       "       datetime.datetime(2016, 9, 1, 0, 0),\n",
       "       datetime.datetime(2016, 10, 1, 0, 0),\n",
       "       datetime.datetime(2016, 11, 1, 0, 0),\n",
       "       datetime.datetime(2016, 12, 1, 0, 0),\n",
       "       datetime.datetime(2017, 1, 1, 0, 0),\n",
       "       datetime.datetime(2017, 2, 1, 0, 0),\n",
       "       datetime.datetime(2017, 3, 1, 0, 0),\n",
       "       datetime.datetime(2017, 4, 1, 0, 0),\n",
       "       datetime.datetime(2017, 5, 1, 0, 0),\n",
       "       datetime.datetime(2017, 6, 1, 0, 0),\n",
       "       datetime.datetime(2017, 7, 1, 0, 0),\n",
       "       datetime.datetime(2017, 8, 1, 0, 0),\n",
       "       datetime.datetime(2017, 9, 1, 0, 0),\n",
       "       datetime.datetime(2017, 10, 1, 0, 0),\n",
       "       datetime.datetime(2017, 11, 1, 0, 0),\n",
       "       datetime.datetime(2017, 12, 1, 0, 0),\n",
       "       datetime.datetime(2018, 1, 1, 0, 0),\n",
       "       datetime.datetime(2018, 2, 1, 0, 0),\n",
       "       datetime.datetime(2018, 3, 1, 0, 0),\n",
       "       datetime.datetime(2018, 4, 1, 0, 0),\n",
       "       datetime.datetime(2018, 5, 1, 0, 0),\n",
       "       datetime.datetime(2018, 6, 1, 0, 0)], dtype=object)"
      ]
     },
     "execution_count": 59,
     "metadata": {},
     "output_type": "execute_result"
    }
   ],
   "source": [
    "time_conv"
   ]
  },
  {
   "cell_type": "markdown",
   "id": "bfb4010d-472c-4980-ae42-163a60945ecf",
   "metadata": {},
   "source": [
    "Perfect! Now, let's eliminate the last 6 months so we have a complete set of years:"
   ]
  },
  {
   "cell_type": "code",
   "execution_count": 60,
   "id": "e5a11df6-c277-411f-8e49-b417f2481934",
   "metadata": {},
   "outputs": [
    {
     "data": {
      "text/plain": [
       "(840,)"
      ]
     },
     "execution_count": 60,
     "metadata": {},
     "output_type": "execute_result"
    }
   ],
   "source": [
    "time_short = time_conv[0:-6]\n",
    "time_short.shape"
   ]
  },
  {
   "cell_type": "code",
   "execution_count": 62,
   "id": "f4f0c140-8c1e-4d64-8899-511ff12f6ed9",
   "metadata": {},
   "outputs": [
    {
     "data": {
      "text/plain": [
       "(840, 120, 300)"
      ]
     },
     "execution_count": 62,
     "metadata": {},
     "output_type": "execute_result"
    }
   ],
   "source": [
    "precip_short = precip[0:-6]\n",
    "precip_short.shape"
   ]
  },
  {
   "cell_type": "markdown",
   "id": "4ba37e08-2620-4a9d-bf82-ba966a65a3cd",
   "metadata": {},
   "source": [
    "Now precip is 840 x 120 x 300! Nice. Finally, we want to get this into year x month x lat x lon format, which we do by noting 840 months = 70 year x 12 months in a year. We can use NumPy to separate them by using the reshape function:"
   ]
  },
  {
   "cell_type": "code",
   "execution_count": 72,
   "id": "9c48d167-34d4-4086-b934-92ebddc52592",
   "metadata": {},
   "outputs": [
    {
     "data": {
      "text/plain": [
       "array([[ 1.,  2.,  3.,  4.,  5.,  6.,  7.,  8.,  9., 10., 11., 12.],\n",
       "       [13., 14., 15., 16., 17., 18., 19., 20., 21., 22., 23., 24.]])"
      ]
     },
     "execution_count": 72,
     "metadata": {},
     "output_type": "execute_result"
    }
   ],
   "source": [
    "# Example to visualize how the reshaping works\n",
    "example_arr = np.linspace(1,24,24)\n",
    "np.reshape(example_arr,(2,12))"
   ]
  },
  {
   "cell_type": "markdown",
   "id": "d5ce49f9-638b-4c0f-ad1d-d93ca89029bd",
   "metadata": {},
   "source": [
    "This tells us that the first index, based on how NumPy reshaping works, should be the number of years."
   ]
  },
  {
   "cell_type": "code",
   "execution_count": 75,
   "id": "c820ba2a-a1ad-417f-85e9-1c9e67ceb711",
   "metadata": {},
   "outputs": [
    {
     "name": "stdout",
     "output_type": "stream",
     "text": [
      "(70, 12, 120, 300)\n"
     ]
    }
   ],
   "source": [
    "precip_shaped = np.reshape(precip_short,(70,12,120,300))\n",
    "print(precip_shaped.shape)"
   ]
  },
  {
   "cell_type": "markdown",
   "id": "560f0b06-611b-4287-bd9a-4f6d1ee4bd26",
   "metadata": {},
   "source": [
    "Finally, to get the mean for each month, we can take the average across the year dimension (axis 0):"
   ]
  },
  {
   "cell_type": "code",
   "execution_count": 77,
   "id": "5f7d0078-0ac4-4418-97e7-a19fe193d554",
   "metadata": {},
   "outputs": [
    {
     "name": "stdout",
     "output_type": "stream",
     "text": [
      "(12, 120, 300)\n"
     ]
    },
    {
     "name": "stderr",
     "output_type": "stream",
     "text": [
      "/var/folders/9m/twr5jbzx3hz5jtltncq1bkyh0000gn/T/ipykernel_89654/4157716288.py:1: RuntimeWarning: Mean of empty slice\n",
      "  precip_monthly = np.nanmean(precip_shaped,axis=0)\n"
     ]
    }
   ],
   "source": [
    "precip_monthly = np.nanmean(precip_shaped,axis=0)\n",
    "print(precip_monthly.shape)"
   ]
  },
  {
   "cell_type": "markdown",
   "id": "09fd5b74-4963-4faf-9fb9-9d4aa8404489",
   "metadata": {},
   "source": [
    "### Contour Plots"
   ]
  },
  {
   "cell_type": "markdown",
   "id": "d8237b68-9ee7-4a2d-af04-4cf17043962c",
   "metadata": {},
   "source": [
    "Contour plots allow us to plot 2-D data (e.g., over lat and lon coordinates). In this case, the color will correspond to the value of precip at each grid point. Let's try a plot for May:"
   ]
  },
  {
   "cell_type": "code",
   "execution_count": 79,
   "id": "9bb51e3c-4e28-40d4-90dd-1803dc9fa915",
   "metadata": {},
   "outputs": [
    {
     "data": {
      "text/plain": [
       "<matplotlib.contour.QuadContourSet at 0x7fb812c8cf40>"
      ]
     },
     "execution_count": 79,
     "metadata": {},
     "output_type": "execute_result"
    },
    {
     "data": {
      "image/png": "[encoded data removed]",
      "text/plain": [
       "<Figure size 640x480 with 1 Axes>"
      ]
     },
     "metadata": {},
     "output_type": "display_data"
    }
   ],
   "source": [
    "precip_may = precip_monthly[4,:,:]\n",
    "plt.contourf(lons,lats,precip_may)"
   ]
  },
  {
   "cell_type": "markdown",
   "id": "ae94f274-bd95-4e1b-90e2-705e4860bcb7",
   "metadata": {},
   "source": [
    "Wow! There's lots that we can do with these contour plots, but for now, let's experiment with different colorbars: https://matplotlib.org/stable/users/explain/colors/colormaps.html"
   ]
  },
  {
   "cell_type": "code",
   "execution_count": 88,
   "id": "638f81cd-0239-44aa-9920-da14aef1fd48",
   "metadata": {},
   "outputs": [
    {
     "data": {
      "image/png": "[encoded data removed]",
      "text/plain": [
       "<Figure size 640x480 with 2 Axes>"
      ]
     },
     "metadata": {},
     "output_type": "display_data"
    }
   ],
   "source": [
    "plt.contourf(lons,lats,precip_may,cmap='BrBG')\n",
    "cbar = plt.colorbar()\n",
    "cbar.set_label(\"Precipitation [mm]\")"
   ]
  },
  {
   "cell_type": "code",
   "execution_count": null,
   "id": "c636940b-2686-4f32-89ed-03647212b0c6",
   "metadata": {},
   "outputs": [],
   "source": []
  }
 ],
 "metadata": {
  "kernelspec": {
   "display_name": "Python 3 (ipykernel)",
   "language": "python",
   "name": "python3"
  },
  "language_info": {
   "codemirror_mode": {
    "name": "ipython",
    "version": 3
   },
   "file_extension": ".py",
   "mimetype": "text/x-python",
   "name": "python",
   "nbconvert_exporter": "python",
   "pygments_lexer": "ipython3",
   "version": "3.8.16"
  }
 },
 "nbformat": 4,
 "nbformat_minor": 5
}
