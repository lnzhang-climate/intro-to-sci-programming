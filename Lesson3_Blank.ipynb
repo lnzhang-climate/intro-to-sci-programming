{
 "cells": [
  {
   "cell_type": "markdown",
   "id": "d8c0b165-a597-43d2-8e41-12c284f481f4",
   "metadata": {},
   "source": [
    "Intro to Scientific Programming, developed by Lily N. Zhang (lilynzhang.com/teaching/)"
   ]
  },
  {
   "cell_type": "markdown",
   "id": "b876a5fd-6f13-474a-9354-2d9bebbb5608",
   "metadata": {},
   "source": [
    "## Lesson Three"
   ]
  },
  {
   "cell_type": "markdown",
   "id": "bc1bc009-7114-4149-b04c-3a95bcea496c",
   "metadata": {},
   "source": [
    "# Plotting"
   ]
  },
  {
   "cell_type": "markdown",
   "id": "03a390f3-8b0a-4d42-95f0-ac3422aeaf86",
   "metadata": {},
   "source": [
    "### Review"
   ]
  },
  {
   "cell_type": "markdown",
   "id": "c66bdccd-f600-4290-87b1-2b4547e96eb5",
   "metadata": {},
   "source": [
    "Last time, we learned about arrays:\n",
    "* What they are: n-dimensional structures that can store data of any type (e.g., integers, strings)\n",
    "* How we use them: indexing, computing means, statistics across an axis, plotting"
   ]
  },
  {
   "cell_type": "markdown",
   "id": "9bd96831-e3c7-443b-9a43-4798ad70f8cb",
   "metadata": {},
   "source": [
    "### Lesson Objectives"
   ]
  },
  {
   "cell_type": "markdown",
   "id": "87ebb616-c094-4267-a2d7-81f6d9a28fed",
   "metadata": {},
   "source": [
    "Today, we will learn:\n",
    "* How to download and process data arrays\n",
    "* More on plotting\n",
    "We will learn this through two examples--the best way to learn is by doing!"
   ]
  },
  {
   "cell_type": "markdown",
   "id": "433282ab-0bd5-44da-a031-b52de2d8654e",
   "metadata": {},
   "source": [
    "## Basic Concepts"
   ]
  },
  {
   "cell_type": "markdown",
   "id": "2ad212da-e4ac-452e-8307-7f165594955f",
   "metadata": {},
   "source": [
    "First, let's create a fake dataset in NumPy to demonstrate some basic concepts:"
   ]
  },
  {
   "cell_type": "code",
   "execution_count": 2,
   "id": "94f7d8ab-181b-49db-a9ff-f1884e47b4d5",
   "metadata": {},
   "outputs": [],
   "source": [
    "import numpy as np\n",
    "x = np.linspace(1,10,10) # this creates an array from x1 to x2 with n points\n",
    "y = x*2 # we can multiply arrays by scalars in this way -- be careful when multiplying two arrays"
   ]
  },
  {
   "cell_type": "markdown",
   "id": "0119f660-d523-4d17-b607-116d1afa4335",
   "metadata": {},
   "source": [
    "Now, we're going to import the `matplotlib` library and use its `pyplot` module:"
   ]
  },
  {
   "cell_type": "code",
   "execution_count": null,
   "id": "3c7e295d-9194-4d45-a2eb-f78863906daf",
   "metadata": {},
   "outputs": [],
   "source": []
  },
  {
   "cell_type": "markdown",
   "id": "96aa4f92-de31-445a-876c-87433ca939a4",
   "metadata": {},
   "source": [
    "Some other things we can change are the x- and y-ticks, the tick labels, the font size, add an additional y-xais, the limits and scale of the axes, figure size, and more! Later on, when we start looking at a 2-D dataset, we'll be adding a colorbar with its own limits, ticks, and labels."
   ]
  },
  {
   "cell_type": "markdown",
   "id": "b63ecf98-676d-4716-afa0-f951d6b1ae31",
   "metadata": {},
   "source": [
    "## CO2 Example: Plotting 1-D Arrays"
   ]
  },
  {
   "cell_type": "markdown",
   "id": "58a4696d-b83a-4d36-951d-9df008939de8",
   "metadata": {},
   "source": [
    "### Data Download"
   ]
  },
  {
   "cell_type": "markdown",
   "id": "7790f1af-f5f9-40f0-b591-ec52b05b8725",
   "metadata": {},
   "source": [
    "We're going to download the .txt file that contains Mauna Loa annual mean CO2 measurements from here: https://gml.noaa.gov/ccgg/trends/data.html and add it to our directory (whatever folder we're working out of). We can read in .txt files using the `.loadtxt()` function in NumPy:"
   ]
  },
  {
   "cell_type": "code",
   "execution_count": null,
   "id": "43c66e70-b9d0-4fa0-a389-de7c6f29445c",
   "metadata": {},
   "outputs": [],
   "source": []
  },
  {
   "cell_type": "code",
   "execution_count": null,
   "id": "808fddc0-3cda-4e42-a580-c041da951e1d",
   "metadata": {
    "tags": []
   },
   "outputs": [],
   "source": []
  },
  {
   "cell_type": "markdown",
   "id": "1b19d59f-da3d-45e9-8f2e-cf83a61671cb",
   "metadata": {},
   "source": [
    "We know that the year is the first column and the corresponding annual mean CO2 is the second column, so let's extract them:"
   ]
  },
  {
   "cell_type": "code",
   "execution_count": null,
   "id": "e6b4bcb2-ed74-4381-8931-e83e3d54205a",
   "metadata": {},
   "outputs": [],
   "source": []
  },
  {
   "cell_type": "code",
   "execution_count": null,
   "id": "637f01a4-f2c4-4c7e-94a1-a9a70b495166",
   "metadata": {},
   "outputs": [],
   "source": []
  },
  {
   "cell_type": "code",
   "execution_count": null,
   "id": "54805bf0-fc8d-45d4-af5e-d1c327b394a9",
   "metadata": {},
   "outputs": [],
   "source": []
  },
  {
   "cell_type": "markdown",
   "id": "0df05dbb-3e81-49fc-bf36-3d0138cecb43",
   "metadata": {},
   "source": [
    "### Line Plots using `.plot(x1,y2)`"
   ]
  },
  {
   "cell_type": "code",
   "execution_count": null,
   "id": "d25d0685-79fe-4d70-aeab-8b59d3a5a2a2",
   "metadata": {},
   "outputs": [],
   "source": []
  },
  {
   "cell_type": "markdown",
   "id": "260ea12d-f5a9-4a10-bde5-667c9842fcb3",
   "metadata": {},
   "source": [
    "### Modiying Line Properties"
   ]
  },
  {
   "cell_type": "markdown",
   "id": "d9bfd844-e7a9-4733-a623-600f0c5e70bc",
   "metadata": {},
   "source": [
    "From the matplotlib documentation, we learn that we can specify properties such as `linestyle`, `linewidth`, `marker`, and `color`:"
   ]
  },
  {
   "cell_type": "code",
   "execution_count": null,
   "id": "32c58576-e19f-4f9a-adc3-f3382c4da1a1",
   "metadata": {},
   "outputs": [],
   "source": []
  },
  {
   "cell_type": "markdown",
   "id": "0e564593-16e0-4108-8931-1d52f68664e0",
   "metadata": {},
   "source": [
    "### Axes Properties"
   ]
  },
  {
   "cell_type": "code",
   "execution_count": null,
   "id": "0b765799-ebc8-401a-8643-d8a02290b5b2",
   "metadata": {},
   "outputs": [],
   "source": []
  },
  {
   "cell_type": "markdown",
   "id": "da87956f-2ae1-4fb6-bc45-643e628a4922",
   "metadata": {},
   "source": [
    "### Scatter Plots `.scatter(x1,y1)`"
   ]
  },
  {
   "cell_type": "markdown",
   "id": "f0854b4c-ad77-4663-b0d1-706a9ea47d37",
   "metadata": {},
   "source": [
    "Using similar syntax, we can call the `.scatter` function"
   ]
  },
  {
   "cell_type": "code",
   "execution_count": null,
   "id": "57dabf4a-b502-46da-b7e8-a1bc21dd361c",
   "metadata": {},
   "outputs": [],
   "source": []
  },
  {
   "cell_type": "markdown",
   "id": "1cf948ea-a305-4160-a060-59c4512fc898",
   "metadata": {},
   "source": [
    "Scatter plots are good if you have a lot of samples that result in noisy data. We can also adjust the axes and add labels to this graph as for the previous examples."
   ]
  },
  {
   "cell_type": "markdown",
   "id": "ab1fd06d-3616-4723-8481-eb92ac816081",
   "metadata": {},
   "source": [
    "## CONUS Precipitation Example: Plotting 2-D and 3-D Arrays, Geospatial Data"
   ]
  },
  {
   "cell_type": "markdown",
   "id": "a33d781f-dd94-4a65-bff5-489cc62ce432",
   "metadata": {},
   "source": [
    "### NetCDF Files"
   ]
  },
  {
   "cell_type": "markdown",
   "id": "d0f94e2b-5977-4d0e-8885-493c981216f6",
   "metadata": {},
   "source": [
    "Larger datasets (e.g., from satellite) are typically stored as **NetCDF files**. This format allows the creator to save n-dimensional data arrays and include additional information about the content. Let's read a NetCDF file that contains monthly average precipitation over CONUS for 70 years."
   ]
  },
  {
   "cell_type": "code",
   "execution_count": null,
   "id": "9d41003c-03c7-4679-b088-4516484a515d",
   "metadata": {},
   "outputs": [],
   "source": []
  },
  {
   "cell_type": "code",
   "execution_count": null,
   "id": "dc3095a6-8215-499d-a071-813728ded406",
   "metadata": {},
   "outputs": [],
   "source": []
  },
  {
   "cell_type": "markdown",
   "id": "5b1ebe42-2488-4b55-a6de-e45d60815174",
   "metadata": {},
   "source": [
    "This tells us that there are four variables: lat, lon, time, and precip (which has dimensions of time x lat x lon). We are going to extract each of them using the `.variables` command:"
   ]
  },
  {
   "cell_type": "code",
   "execution_count": null,
   "id": "184a28ed-302c-4bd4-8c65-927f33a2837d",
   "metadata": {},
   "outputs": [],
   "source": []
  },
  {
   "cell_type": "code",
   "execution_count": null,
   "id": "1cf43d0e-eeba-42b6-8f6a-1e0a1a47ac71",
   "metadata": {},
   "outputs": [],
   "source": []
  },
  {
   "cell_type": "markdown",
   "id": "72a52fc3-2a45-45d5-b17c-43c8a7cae9f3",
   "metadata": {},
   "source": [
    "Looks like there are some placeholders for missing values that are causing issues. We're going to replace their missing value with `nan`s"
   ]
  },
  {
   "cell_type": "code",
   "execution_count": null,
   "id": "ba2c6ce1-6d41-43ac-b9e0-4589a723f5f1",
   "metadata": {},
   "outputs": [],
   "source": []
  },
  {
   "cell_type": "code",
   "execution_count": null,
   "id": "2068591a-4f70-4108-a765-dc7d8b1c4299",
   "metadata": {},
   "outputs": [],
   "source": []
  },
  {
   "cell_type": "code",
   "execution_count": null,
   "id": "50ab901a-5e40-4993-973b-ca58f2b62070",
   "metadata": {},
   "outputs": [],
   "source": []
  },
  {
   "cell_type": "code",
   "execution_count": null,
   "id": "32f2fce8-3eed-49bb-a91a-08527183d137",
   "metadata": {},
   "outputs": [],
   "source": []
  },
  {
   "cell_type": "code",
   "execution_count": null,
   "id": "e948c49d-610d-4832-bb83-9828f7fe1ed0",
   "metadata": {},
   "outputs": [],
   "source": []
  },
  {
   "cell_type": "markdown",
   "id": "6aff6859-66e1-42fb-88f6-0acc624abb34",
   "metadata": {},
   "source": [
    "So we have a 846 x 120 x 300 (time x lat x lon) array called precip. We also have 1-D arrays that tell us what the time, lat, and lon indices are. One easy first step we can do is average across time and get the average precipitation over the entire time period for each grid point:"
   ]
  },
  {
   "cell_type": "code",
   "execution_count": null,
   "id": "59840865-c804-45a1-bfd8-017dd827b66e",
   "metadata": {},
   "outputs": [],
   "source": []
  },
  {
   "cell_type": "code",
   "execution_count": null,
   "id": "04728a2d-a77b-4bc3-9414-0989e254c479",
   "metadata": {},
   "outputs": [],
   "source": []
  },
  {
   "cell_type": "markdown",
   "id": "69f5877e-3830-435a-8381-2c965eff50b8",
   "metadata": {},
   "source": [
    "Something a little more difficult, but potentially more useful is to separate the data by month. To do that, we note that the time array starts and ends at:"
   ]
  },
  {
   "cell_type": "code",
   "execution_count": null,
   "id": "90fb46b6-c18b-48a9-b0b4-1e7768fe6d05",
   "metadata": {},
   "outputs": [],
   "source": []
  },
  {
   "cell_type": "markdown",
   "id": "02a681c4-413d-4548-99c5-2e217d344a80",
   "metadata": {},
   "source": [
    "What do these time stamps mean? To understand the units, we have to reference the NetCDF file data and find that the units of time are \"hours since 1/1/1700.\" What??"
   ]
  },
  {
   "cell_type": "code",
   "execution_count": null,
   "id": "e5d2c533-ac42-45bc-b1f4-58ce4c64d5ae",
   "metadata": {},
   "outputs": [],
   "source": []
  },
  {
   "cell_type": "markdown",
   "id": "a4e3943a-108a-4db2-9f8c-a3c25c035c2d",
   "metadata": {},
   "source": [
    "To get our time indices into a human-readable format, we're going to use the `datetime` module:"
   ]
  },
  {
   "cell_type": "code",
   "execution_count": null,
   "id": "4bd7dcf7-577d-4971-8d8c-b6a82ceb66f9",
   "metadata": {},
   "outputs": [],
   "source": []
  },
  {
   "cell_type": "code",
   "execution_count": null,
   "id": "76d38ee6-0a77-4774-918e-af69cae56ed8",
   "metadata": {},
   "outputs": [],
   "source": []
  },
  {
   "cell_type": "markdown",
   "id": "bfb4010d-472c-4980-ae42-163a60945ecf",
   "metadata": {},
   "source": [
    "Perfect! Now, let's eliminate the last 6 months so we have a complete set of years:"
   ]
  },
  {
   "cell_type": "code",
   "execution_count": null,
   "id": "e5a11df6-c277-411f-8e49-b417f2481934",
   "metadata": {},
   "outputs": [],
   "source": []
  },
  {
   "cell_type": "code",
   "execution_count": null,
   "id": "f4f0c140-8c1e-4d64-8899-511ff12f6ed9",
   "metadata": {},
   "outputs": [],
   "source": []
  },
  {
   "cell_type": "markdown",
   "id": "4ba37e08-2620-4a9d-bf82-ba966a65a3cd",
   "metadata": {},
   "source": [
    "Now precip is 840 x 120 x 300! Nice. Finally, we want to get this into year x month x lat x lon format, which we do by noting 840 months = 70 year x 12 months in a year. We can use NumPy to separate them by using the reshape function:"
   ]
  },
  {
   "cell_type": "code",
   "execution_count": null,
   "id": "9c48d167-34d4-4086-b934-92ebddc52592",
   "metadata": {},
   "outputs": [],
   "source": []
  },
  {
   "cell_type": "markdown",
   "id": "d5ce49f9-638b-4c0f-ad1d-d93ca89029bd",
   "metadata": {},
   "source": [
    "This tells us that the first index, based on how NumPy reshaping works, should be the number of years."
   ]
  },
  {
   "cell_type": "code",
   "execution_count": null,
   "id": "c820ba2a-a1ad-417f-85e9-1c9e67ceb711",
   "metadata": {},
   "outputs": [],
   "source": []
  },
  {
   "cell_type": "markdown",
   "id": "560f0b06-611b-4287-bd9a-4f6d1ee4bd26",
   "metadata": {},
   "source": [
    "Finally, to get the mean for each month, we can take the average across the year dimension (axis 0):"
   ]
  },
  {
   "cell_type": "code",
   "execution_count": null,
   "id": "5f7d0078-0ac4-4418-97e7-a19fe193d554",
   "metadata": {},
   "outputs": [],
   "source": []
  },
  {
   "cell_type": "markdown",
   "id": "09fd5b74-4963-4faf-9fb9-9d4aa8404489",
   "metadata": {},
   "source": [
    "### Contour Plots"
   ]
  },
  {
   "cell_type": "markdown",
   "id": "d8237b68-9ee7-4a2d-af04-4cf17043962c",
   "metadata": {},
   "source": [
    "Contour plots allow us to plot 2-D data (e.g., over lat and lon coordinates). In this case, the color will correspond to the value of precip at each grid point. Let's try a plot for May:"
   ]
  },
  {
   "cell_type": "code",
   "execution_count": null,
   "id": "9bb51e3c-4e28-40d4-90dd-1803dc9fa915",
   "metadata": {},
   "outputs": [],
   "source": []
  },
  {
   "cell_type": "markdown",
   "id": "ae94f274-bd95-4e1b-90e2-705e4860bcb7",
   "metadata": {},
   "source": [
    "Wow! There's lots that we can do with these contour plots, but for now, let's experiment with different colorbars: https://matplotlib.org/stable/users/explain/colors/colormaps.html"
   ]
  },
  {
   "cell_type": "code",
   "execution_count": null,
   "id": "638f81cd-0239-44aa-9920-da14aef1fd48",
   "metadata": {},
   "outputs": [],
   "source": []
  },
  {
   "cell_type": "code",
   "execution_count": null,
   "id": "c636940b-2686-4f32-89ed-03647212b0c6",
   "metadata": {},
   "outputs": [],
   "source": []
  }
 ],
 "metadata": {
  "kernelspec": {
   "display_name": "Python 3 (ipykernel)",
   "language": "python",
   "name": "python3"
  },
  "language_info": {
   "codemirror_mode": {
    "name": "ipython",
    "version": 3
   },
   "file_extension": ".py",
   "mimetype": "text/x-python",
   "name": "python",
   "nbconvert_exporter": "python",
   "pygments_lexer": "ipython3",
   "version": "3.8.16"
  }
 },
 "nbformat": 4,
 "nbformat_minor": 5
}
