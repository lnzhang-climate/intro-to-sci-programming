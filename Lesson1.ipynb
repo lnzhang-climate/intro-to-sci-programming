{
 "cells": [
  {
   "cell_type": "markdown",
   "id": "1be41170-5b88-403d-a250-04c2865fd91d",
   "metadata": {},
   "source": [
    "Intro to Scientific Programming, developed by Lily N. Zhang (lilynzhang.com/teaching/)"
   ]
  },
  {
   "cell_type": "markdown",
   "id": "cc2a3907-0f9b-47f3-895c-8d2e0d765160",
   "metadata": {},
   "source": [
    "## Lesson One"
   ]
  },
  {
   "cell_type": "markdown",
   "id": "69009c9d-ab8b-4010-84ce-5e8b5b17e9e5",
   "metadata": {},
   "source": [
    "# Introduction to Python and Jupyter Notebooks"
   ]
  },
  {
   "cell_type": "markdown",
   "id": "2418d013-9f45-4a5c-a9ab-1c20cde9ddbd",
   "metadata": {},
   "source": [
    "First of all, welcome to Jupyter Lab! A Jupyter Notebook is your one-stop shop for writing with both text and code, executing code, and displaying the output!"
   ]
  },
  {
   "cell_type": "markdown",
   "id": "1d8c4477-8f04-4a1f-8ec5-424c17a6f670",
   "metadata": {},
   "source": [
    "## Cells"
   ]
  },
  {
   "cell_type": "markdown",
   "id": "f282b99b-a8d4-4c20-9a01-3116bd5a544e",
   "metadata": {},
   "source": [
    "**Creating Cells:** To start writing, add a block of text or code (aka **\"cell\"**) by clicking the `+` button up top and selecting either `Markdown` for text or `Code` for code."
   ]
  },
  {
   "cell_type": "markdown",
   "id": "02ec9a37-024a-4fa8-b5a3-dc3fe2f63c5e",
   "metadata": {},
   "source": [
    "**Running Cells**: To run your code or complete your text block, click the `▶️` button or hit `Shift` `Enter`on your keyboard"
   ]
  },
  {
   "cell_type": "markdown",
   "id": "3563e169-9ead-4e17-9765-e17ee0a23ae0",
   "metadata": {},
   "source": [
    "## Basic Commands (and Comments)"
   ]
  },
  {
   "cell_type": "markdown",
   "id": "43d7e273-e1d9-4065-9284-110a8fe12272",
   "metadata": {},
   "source": [
    "Python is one of many programming languages computers \"speak.\" Writing code in Python allows us to communicate with the computer and command it to do certain things for us. Try the following commands:"
   ]
  },
  {
   "cell_type": "code",
   "execution_count": 1,
   "id": "b0216639-3f89-4afc-9726-fa5e084632e5",
   "metadata": {},
   "outputs": [
    {
     "name": "stdout",
     "output_type": "stream",
     "text": [
      "Hello World\n"
     ]
    }
   ],
   "source": [
    "print(\"Hello World\")"
   ]
  },
  {
   "cell_type": "code",
   "execution_count": 2,
   "id": "56781afb-059d-4357-a935-f2ddae78b256",
   "metadata": {},
   "outputs": [
    {
     "data": {
      "text/plain": [
       "2"
      ]
     },
     "execution_count": 2,
     "metadata": {},
     "output_type": "execute_result"
    }
   ],
   "source": [
    "1+1"
   ]
  },
  {
   "cell_type": "code",
   "execution_count": 3,
   "id": "ad6645ff-474a-4ecc-b16d-ac6d2ad63d5e",
   "metadata": {},
   "outputs": [
    {
     "data": {
      "text/plain": [
       "6"
      ]
     },
     "execution_count": 3,
     "metadata": {},
     "output_type": "execute_result"
    }
   ],
   "source": [
    "2*3 # two times three"
   ]
  },
  {
   "cell_type": "code",
   "execution_count": 4,
   "id": "4badb1fb-87c1-4474-8a81-71ef4a7b302a",
   "metadata": {},
   "outputs": [
    {
     "data": {
      "text/plain": [
       "8"
      ]
     },
     "execution_count": 4,
     "metadata": {},
     "output_type": "execute_result"
    }
   ],
   "source": [
    "2**3 # two to the power of three"
   ]
  },
  {
   "cell_type": "markdown",
   "id": "35c52a6e-2e4b-4eca-80db-f51b0754a594",
   "metadata": {},
   "source": [
    "You might notice that I've added little notes in green using the pound `#` symbol. These are called comments and leaving them helps make our code more readable for others and our future selves!"
   ]
  },
  {
   "cell_type": "markdown",
   "id": "35ae722f-1249-4657-820b-b3a7fd52170d",
   "metadata": {},
   "source": [
    "## Things (Variables)"
   ]
  },
  {
   "cell_type": "markdown",
   "id": "7c74649f-2d9d-4be9-9500-091828d0b6e1",
   "metadata": {},
   "source": [
    "Variables are things (for lack of a better word) that we can create and store within our code. Like variables in math, they can represent a number, but they can also store other information such as text. For example, let's create a variable `a`: "
   ]
  },
  {
   "cell_type": "code",
   "execution_count": 5,
   "id": "02dd819d-841c-4183-ba52-b4feaa6f3d53",
   "metadata": {},
   "outputs": [],
   "source": [
    "a = \"Hello World\""
   ]
  },
  {
   "cell_type": "markdown",
   "id": "d639a700-5fb9-4798-8ab5-7d4f69496b94",
   "metadata": {},
   "source": [
    "In this case, `a` is a variable we created that has been assigned to be the **string** (denoted by text between `\"`s) \"Hello World\". We can tell the computer to display `a` by using `print()`"
   ]
  },
  {
   "cell_type": "code",
   "execution_count": 6,
   "id": "0c944dce-3912-4ce6-97be-28b28192ade7",
   "metadata": {},
   "outputs": [
    {
     "name": "stdout",
     "output_type": "stream",
     "text": [
      "Hello World\n"
     ]
    }
   ],
   "source": [
    "print(a)"
   ]
  },
  {
   "cell_type": "markdown",
   "id": "3a580840-0a9c-4616-81cf-5e5460866050",
   "metadata": {},
   "source": [
    "Now, let's go back to working with numbers:"
   ]
  },
  {
   "cell_type": "code",
   "execution_count": 7,
   "id": "feae3531-a27e-433b-9cf5-d3d2c6f8b436",
   "metadata": {},
   "outputs": [],
   "source": [
    "a = 2"
   ]
  },
  {
   "cell_type": "code",
   "execution_count": 8,
   "id": "09e5df13-ef38-4780-930d-329b4e134712",
   "metadata": {},
   "outputs": [],
   "source": [
    "b = 3"
   ]
  },
  {
   "cell_type": "code",
   "execution_count": 9,
   "id": "b99a8b0e-d336-417c-bb11-a607dea8ccf3",
   "metadata": {},
   "outputs": [],
   "source": [
    "c = a + b"
   ]
  },
  {
   "cell_type": "markdown",
   "id": "fe9c6097-9a69-443a-93df-8647b24f2a3e",
   "metadata": {},
   "source": [
    "Can you guess what `print(c)` will return?"
   ]
  },
  {
   "cell_type": "code",
   "execution_count": 10,
   "id": "091b6ef7-382e-4f17-b421-a0d1dc2110fd",
   "metadata": {},
   "outputs": [
    {
     "name": "stdout",
     "output_type": "stream",
     "text": [
      "5\n"
     ]
    }
   ],
   "source": [
    "print(c)"
   ]
  },
  {
   "cell_type": "markdown",
   "id": "67dfc5c9-0e08-45c3-9b40-6cde4d318a95",
   "metadata": {},
   "source": [
    "## Functions"
   ]
  },
  {
   "cell_type": "markdown",
   "id": "506abe6b-1094-4a26-99a8-f3b73e478e16",
   "metadata": {},
   "source": [
    "Functions are built-in commands that do certain things. For example, we've already used the `print()` command, which displays whatever is inside the parentheses. Now, try the `round()` function:"
   ]
  },
  {
   "cell_type": "code",
   "execution_count": 11,
   "id": "5480377c-42e0-4be4-a194-03f53a2cb03b",
   "metadata": {},
   "outputs": [
    {
     "data": {
      "text/plain": [
       "2"
      ]
     },
     "execution_count": 11,
     "metadata": {},
     "output_type": "execute_result"
    }
   ],
   "source": [
    "round(1.999)"
   ]
  },
  {
   "cell_type": "markdown",
   "id": "526812e4-d623-4f2e-8e69-4dc494961b4c",
   "metadata": {},
   "source": [
    "Functions take whatever is inside the parentheses as **input** and return the result as **output**. You can store the output of a function as a new variable."
   ]
  },
  {
   "cell_type": "code",
   "execution_count": 12,
   "id": "791176f2-98f3-4936-a87c-ed42358aa047",
   "metadata": {},
   "outputs": [
    {
     "name": "stdout",
     "output_type": "stream",
     "text": [
      "3\n"
     ]
    }
   ],
   "source": [
    "a = 24/7\n",
    "b = round(a)\n",
    "print(b)"
   ]
  },
  {
   "cell_type": "markdown",
   "id": "2b5710c8-1a1a-469b-a833-f816ba3735f1",
   "metadata": {},
   "source": [
    "### Writing Functions (and some Debugging!)"
   ]
  },
  {
   "cell_type": "markdown",
   "id": "1b38c49d-1cd1-4a24-a55c-84fc2125ce21",
   "metadata": {},
   "source": [
    "If there's a series of commands we expect to be using many times, we can create a shortcut to those commands by writing our own function. For example, let's make a function that takes a fraction as input and prints the corresponding percentage (pay attention to the comments):"
   ]
  },
  {
   "cell_type": "code",
   "execution_count": 13,
   "id": "1298f43e-dcb9-40ae-8474-894fafdec81f",
   "metadata": {},
   "outputs": [],
   "source": [
    "def printPercent(frac): # define function name and inputs\n",
    "    # code the function executes with the input\n",
    "    percent = frac*100\n",
    "    print(percent)"
   ]
  },
  {
   "cell_type": "markdown",
   "id": "9998ff0d-75b8-4a34-9015-047a294850a0",
   "metadata": {},
   "source": [
    "Now let's test whether our function works:"
   ]
  },
  {
   "cell_type": "code",
   "execution_count": 14,
   "id": "5883e6ec-c903-439d-8f51-40064a71782e",
   "metadata": {},
   "outputs": [
    {
     "name": "stdout",
     "output_type": "stream",
     "text": [
      "66.66666666666666\n"
     ]
    }
   ],
   "source": [
    "printPercent(2/3)"
   ]
  },
  {
   "cell_type": "markdown",
   "id": "c7876053-f2d3-4258-9598-40cf7db9a21f",
   "metadata": {},
   "source": [
    "Nice! What are some ways we can improve our function?"
   ]
  },
  {
   "cell_type": "code",
   "execution_count": 15,
   "id": "af851633-7cc0-49c8-b0d8-e733a4a60f5d",
   "metadata": {},
   "outputs": [],
   "source": [
    "def printPercent_v2(frac):\n",
    "    percent = round(frac*100) # let's round our fraction so it doesn't have so many decimal places\n",
    "    percent_string = percent + '%' # let's add a percent symbol to the end before printing\n",
    "    print(percent_string)"
   ]
  },
  {
   "cell_type": "code",
   "execution_count": 16,
   "id": "51f8cd41-eb64-48c0-8366-86a0e77561d6",
   "metadata": {},
   "outputs": [
    {
     "ename": "TypeError",
     "evalue": "unsupported operand type(s) for +: 'int' and 'str'",
     "output_type": "error",
     "traceback": [
      "\u001b[0;31m---------------------------------------------------------------------------\u001b[0m",
      "\u001b[0;31mTypeError\u001b[0m                                 Traceback (most recent call last)",
      "Input \u001b[0;32mIn [16]\u001b[0m, in \u001b[0;36m<cell line: 1>\u001b[0;34m()\u001b[0m\n\u001b[0;32m----> 1\u001b[0m \u001b[43mprintPercent_v2\u001b[49m\u001b[43m(\u001b[49m\u001b[38;5;241;43m2\u001b[39;49m\u001b[38;5;241;43m/\u001b[39;49m\u001b[38;5;241;43m3\u001b[39;49m\u001b[43m)\u001b[49m\n",
      "Input \u001b[0;32mIn [15]\u001b[0m, in \u001b[0;36mprintPercent_v2\u001b[0;34m(frac)\u001b[0m\n\u001b[1;32m      1\u001b[0m \u001b[38;5;28;01mdef\u001b[39;00m \u001b[38;5;21mprintPercent_v2\u001b[39m(frac):\n\u001b[1;32m      2\u001b[0m     percent \u001b[38;5;241m=\u001b[39m \u001b[38;5;28mround\u001b[39m(frac\u001b[38;5;241m*\u001b[39m\u001b[38;5;241m100\u001b[39m) \u001b[38;5;66;03m# let's round our fraction so it doesn't have so many decimal places\u001b[39;00m\n\u001b[0;32m----> 3\u001b[0m     percent_string \u001b[38;5;241m=\u001b[39m \u001b[43mpercent\u001b[49m\u001b[43m \u001b[49m\u001b[38;5;241;43m+\u001b[39;49m\u001b[43m \u001b[49m\u001b[38;5;124;43m'\u001b[39;49m\u001b[38;5;124;43m%\u001b[39;49m\u001b[38;5;124;43m'\u001b[39;49m \u001b[38;5;66;03m# let's add a percent symbol to the end before printing\u001b[39;00m\n\u001b[1;32m      4\u001b[0m     \u001b[38;5;28mprint\u001b[39m(percent_string)\n",
      "\u001b[0;31mTypeError\u001b[0m: unsupported operand type(s) for +: 'int' and 'str'"
     ]
    }
   ],
   "source": [
    "printPercent_v2(2/3)"
   ]
  },
  {
   "cell_type": "markdown",
   "id": "621fb123-e1be-4f86-8dd8-67c9cc925293",
   "metadata": {},
   "source": [
    "Uh oh! We've encountered our first **Error**. The computer will let us know when we've given it a command that it cannot execute and try its best to explain why. In this case, it's telling us that it can't add an integer (aka **int**) to a string. That makes sense, but we can add two strings together, for example:"
   ]
  },
  {
   "cell_type": "code",
   "execution_count": 17,
   "id": "0d5c2758-2b37-4348-8bd6-406db8a78251",
   "metadata": {},
   "outputs": [
    {
     "name": "stdout",
     "output_type": "stream",
     "text": [
      "HelloWorld\n"
     ]
    }
   ],
   "source": [
    "print(\"Hello\" + \"World\")"
   ]
  },
  {
   "cell_type": "markdown",
   "id": "4e4d1fac-a26c-4048-9c24-47c046a6c47a",
   "metadata": {},
   "source": [
    "So what we want to do is convert our variable `percent`, which is an integer, to a string using the `str()` function before adding it to the `'%'` character."
   ]
  },
  {
   "cell_type": "code",
   "execution_count": 18,
   "id": "fa3e4115-5255-47bf-854c-c0ca0e2e35bd",
   "metadata": {},
   "outputs": [],
   "source": [
    "def printPercent_v3(frac):\n",
    "    percent = round(frac*100) # let's round our fraction so it doesn't have so many decimal places\n",
    "    percent_string = str(percent) + '%' # let's add a percent symbol to the end before printing\n",
    "    print(percent_string)"
   ]
  },
  {
   "cell_type": "code",
   "execution_count": 19,
   "id": "69171925-f752-4d66-952b-5270c85c8ae1",
   "metadata": {},
   "outputs": [
    {
     "name": "stdout",
     "output_type": "stream",
     "text": [
      "67%\n"
     ]
    }
   ],
   "source": [
    "printPercent_v3(2/3)"
   ]
  },
  {
   "cell_type": "markdown",
   "id": "c173275b-11cd-4797-95f8-2a8afeb95048",
   "metadata": {},
   "source": [
    "Perfect!"
   ]
  },
  {
   "cell_type": "markdown",
   "id": "6b9d75d7-8c61-4159-8016-304a26d78e65",
   "metadata": {},
   "source": [
    "What our previous function did was execute the code within its block and print the result. Typically, we will want functions to **return** their results as follows:"
   ]
  },
  {
   "cell_type": "code",
   "execution_count": 20,
   "id": "0b1babaa-ec95-440a-9968-339952e3a9b8",
   "metadata": {},
   "outputs": [],
   "source": [
    "def percentStr(frac):\n",
    "    percent = round(frac*100) # let's round our fraction so it doesn't have so many decimal places\n",
    "    percent_string = str(percent) + '%' # let's add a percent symbol to the end before printing\n",
    "    return percent_string"
   ]
  },
  {
   "cell_type": "markdown",
   "id": "55f6815d-55f9-4194-8280-ccc0b24028f1",
   "metadata": {},
   "source": [
    "Now, the function will return the fraction as a string, and we can store the output in a new variable that we can use and manipulate further:"
   ]
  },
  {
   "cell_type": "code",
   "execution_count": 21,
   "id": "a513313f-1c98-4fb6-89d8-134bbe92c6f4",
   "metadata": {},
   "outputs": [
    {
     "name": "stdout",
     "output_type": "stream",
     "text": [
      "67%\n"
     ]
    }
   ],
   "source": [
    "result = percentStr(2/3)\n",
    "print(result)"
   ]
  },
  {
   "cell_type": "markdown",
   "id": "88b39cec-1f15-4e1b-bd03-ab7707e1e0d8",
   "metadata": {},
   "source": [
    "### Importing Modules"
   ]
  },
  {
   "cell_type": "markdown",
   "id": "225ee8f2-e833-489e-99cf-fc764b7425c0",
   "metadata": {},
   "source": [
    "Each programming language has its own built-in functions. Python is a powerful programming language because we can access a ton of pre-written functions by importing **modules**. Think of modules as toolkits full of useful functions created by other people that we can borrow. For example, let's experiment with the built-in `random` module:"
   ]
  },
  {
   "cell_type": "code",
   "execution_count": 22,
   "id": "61a39dd8-9ed1-429c-979e-c0d4aa7ab320",
   "metadata": {},
   "outputs": [],
   "source": [
    "import random"
   ]
  },
  {
   "cell_type": "markdown",
   "id": "1f947a2e-e2ac-4cf2-899b-c64ffb3b2375",
   "metadata": {},
   "source": [
    "The `random()` function returns a random decimal (aka **floating point number**) between 0 and 1. To call a function from a module, we will need to use the format (aka **syntax**) `[module name].[function]`:"
   ]
  },
  {
   "cell_type": "code",
   "execution_count": 23,
   "id": "42f5c7bd-7d2f-40b5-a865-b3cc629d3799",
   "metadata": {},
   "outputs": [
    {
     "data": {
      "text/plain": [
       "0.7357838332749563"
      ]
     },
     "execution_count": 23,
     "metadata": {},
     "output_type": "execute_result"
    }
   ],
   "source": [
    "random.random()"
   ]
  },
  {
   "cell_type": "markdown",
   "id": "76d9278f-0c4f-4db9-9094-30e9447f461b",
   "metadata": {},
   "source": [
    "#### Installing Packages"
   ]
  },
  {
   "cell_type": "markdown",
   "id": "07c0e948-ff0d-42a8-af99-d0705610544b",
   "metadata": {},
   "source": [
    "Although Python has a number of built-in modules, oftentimes we'll want to use a module written by a third party. In order to do that, we'll need to install **packages**. If you are accessing this tutorial through Jupyter Lab, you should already have some version of Anaconda, a package manager, installed (I prefer miniconda). To install a new package, use the following syntax (using the Metpy **library** of modules as an example):"
   ]
  },
  {
   "cell_type": "code",
   "execution_count": 24,
   "id": "f8c427bd-3a81-4506-9863-a40ff0cf27e1",
   "metadata": {},
   "outputs": [
    {
     "name": "stdout",
     "output_type": "stream",
     "text": [
      "Retrieving notices: ...working... done\n",
      "Collecting package metadata (current_repodata.json): done\n",
      "Solving environment: done\n",
      "\n",
      "\n",
      "==> WARNING: A newer version of conda exists. <==\n",
      "  current version: 23.3.1\n",
      "  latest version: 23.11.0\n",
      "\n",
      "Please update conda by running\n",
      "\n",
      "    $ conda update -n base -c conda-forge conda\n",
      "\n",
      "Or to minimize the number of packages updated during conda update use\n",
      "\n",
      "     conda install conda=23.11.0\n",
      "\n",
      "\n",
      "\n",
      "# All requested packages already installed.\n",
      "\n",
      "\n",
      "Note: you may need to restart the kernel to use updated packages.\n"
     ]
    }
   ],
   "source": [
    "conda install -c conda-forge metpy"
   ]
  },
  {
   "cell_type": "markdown",
   "id": "a5a0eb3e-0b42-40fa-9c50-5dea5ab43462",
   "metadata": {},
   "source": [
    "Now, we can import and use Metpy modules! Metpy has a number of modules for different purposes, so we'll have to identify a specific one we want to use. Let's follow this example on their website for converting an angle to direction (https://unidata.github.io/MetPy/latest/examples/calculations/Angle_to_Direction.html#sphx-glr-examples-calculations-angle-to-direction-py):"
   ]
  },
  {
   "cell_type": "code",
   "execution_count": 25,
   "id": "be6062c9-ab3d-4080-b6f0-c008d5a14fda",
   "metadata": {},
   "outputs": [
    {
     "name": "stdout",
     "output_type": "stream",
     "text": [
      "90 degree\n"
     ]
    }
   ],
   "source": [
    "import metpy.calc as mpcalc # we want to import the calc module within the metpy library and abbreviate it as \"mpcalc\"\n",
    "from metpy.units import units\n",
    "angle_deg = 90 * units('degree')\n",
    "print(angle_deg)"
   ]
  },
  {
   "cell_type": "code",
   "execution_count": 26,
   "id": "7ed830f9-b640-4811-8a0d-a4ab1c440c76",
   "metadata": {},
   "outputs": [
    {
     "name": "stdout",
     "output_type": "stream",
     "text": [
      "E\n"
     ]
    }
   ],
   "source": [
    "dir_str = mpcalc.angle_to_direction(angle_deg)\n",
    "print(dir_str)"
   ]
  },
  {
   "cell_type": "markdown",
   "id": "7c99ed2f-8715-4912-862d-83bee2d8e8ea",
   "metadata": {},
   "source": [
    "## Example 1.1: Simple Greenhouse Effect Model"
   ]
  },
  {
   "cell_type": "markdown",
   "id": "ad4c2653-75f3-4ece-b462-3b967ab48dd8",
   "metadata": {},
   "source": [
    "### Science Mini-Lesson"
   ]
  },
  {
   "cell_type": "markdown",
   "id": "392bc055-84da-4cfc-8513-17862d865ad0",
   "metadata": {},
   "source": [
    "Mini science lesson on the simple greenhouse effect model with a single-layer atmosphere that we will be using: https://docs.google.com/presentation/d/1hTuihLSWv_PaVApHdenaBDlxPdUKDxXv2VtgrGBqw5w/edit?usp=sharing"
   ]
  },
  {
   "cell_type": "markdown",
   "id": "1624ce95-4d62-4950-8be6-56346c5b69d4",
   "metadata": {},
   "source": [
    "To summarize: \n",
    "* The amount of sunlight that hits the Earth is a function of the solar constant, Earth's distance away from the sun, and Earth's cross-sectional area.\n",
    "* Some sunlight is reflected back into space by ice, clouds, and other surface features. The amount of solar energy the surface absorbs is a function of Earth's albedo.   \n",
    "* The Earth must maintain an emission temperature ($T_e$) that allows it to radiate energy away at the same rate it is received.\n",
    "* Adding a single-layer atmosphere that completely absorbs outgoing terrestrial radiation leads to a surface temperature $T_s = 2^{1/4}T_e$"
   ]
  },
  {
   "cell_type": "markdown",
   "id": "d43c0691-7154-4aa6-ae35-2ac51cd3cc1a",
   "metadata": {},
   "source": [
    "### Script"
   ]
  },
  {
   "cell_type": "markdown",
   "id": "f7569f4e-352d-49f7-9b5c-643679b70f2d",
   "metadata": {},
   "source": [
    "Let's apply what we've learned in this lesson towards making something an atmospheric scientist might find useful! We're going to write a function that calculates and returns Earth's surface temperature for a given albedo. In order to do this, we'll need to define the following constants:"
   ]
  },
  {
   "cell_type": "code",
   "execution_count": 27,
   "id": "2befa0a3-bedb-4e94-acbf-4459890fff20",
   "metadata": {},
   "outputs": [],
   "source": [
    "from metpy.units import units\n",
    "S0 = 1367 * units('W/m^2') # solar constant in Watts per meter squared\n",
    "sig = 5.67 * 10**(-8) * units('W/m^2*K^(-4)') # Stefan-Boltzmann constant"
   ]
  },
  {
   "cell_type": "markdown",
   "id": "72396352-5a89-4086-825d-b648b44b669b",
   "metadata": {},
   "source": [
    "First, let's write a function that computes the emission temperature for a given albedo:"
   ]
  },
  {
   "cell_type": "code",
   "execution_count": 28,
   "id": "ccf94df6-b3bb-43fa-82bc-e73ad0e0b949",
   "metadata": {},
   "outputs": [],
   "source": [
    "def computeTe(a):\n",
    "    Te = (S0*(1-a)/(4*sig))**(1/4)\n",
    "    return Te"
   ]
  },
  {
   "cell_type": "markdown",
   "id": "58a019c8-f01b-4a65-9225-1f277d459865",
   "metadata": {},
   "source": [
    "Let's test it for an albedo of 0.3, which we know should return Te = 255 K:"
   ]
  },
  {
   "cell_type": "code",
   "execution_count": 29,
   "id": "43c4b577-db0c-4f39-83a0-837227832b35",
   "metadata": {},
   "outputs": [
    {
     "data": {
      "text/html": [
       "254.8624631536174 kelvin"
      ],
      "text/latex": [
       "$254.8624631536174\\ \\mathrm{kelvin}$"
      ],
      "text/plain": [
       "254.8624631536174 <Unit('kelvin')>"
      ]
     },
     "execution_count": 29,
     "metadata": {},
     "output_type": "execute_result"
    }
   ],
   "source": [
    "computeTe(0.3)"
   ]
  },
  {
   "cell_type": "markdown",
   "id": "6f768464-27c8-4523-9328-ce40573d952e",
   "metadata": {},
   "source": [
    "Finally, let's write the function that computes the surface temperature, using the previous function as a reference. Let's also add in some code that will print the output nicely:"
   ]
  },
  {
   "cell_type": "code",
   "execution_count": 30,
   "id": "3cad69c2-f08d-4d6e-b147-bffd68f8aa3f",
   "metadata": {},
   "outputs": [],
   "source": [
    "def computeTs(a):\n",
    "    Te = computeTe(a)\n",
    "    Ts = 2**(1/4)*Te\n",
    "    return Ts"
   ]
  },
  {
   "cell_type": "markdown",
   "id": "dbe46954-6f7d-476f-9e70-b6ef1415655b",
   "metadata": {},
   "source": [
    "Finally, let's use our new function to return the surface temperature for a variety of albedos:"
   ]
  },
  {
   "cell_type": "code",
   "execution_count": 31,
   "id": "8b3f1816-3da0-4513-a9e1-8cce316121eb",
   "metadata": {},
   "outputs": [
    {
     "name": "stdout",
     "output_type": "stream",
     "text": [
      "Albedo: 0, Ts = 331.35144205819955 kelvin\n",
      "Albedo: 0.5, Ts = 278.6322398158889 kelvin\n",
      "Albedo: 1, Ts = 0.0 kelvin\n"
     ]
    }
   ],
   "source": [
    "# albedo = 0 (all solar energy is absorbed)\n",
    "a1 = 0 \n",
    "Ts1 = computeTs(a1)\n",
    "print(\"Albedo: \" + str(a1) + \", Ts = \" + str(Ts1))\n",
    "\n",
    "# albedo = 0.5\n",
    "a2 = 0.5 \n",
    "Ts2 = computeTs(a2)\n",
    "print(\"Albedo: \" + str(a2) + \", Ts = \" + str(Ts2))\n",
    "\n",
    "# albedo = 1 (all solar energy is reflected)\n",
    "a3 = 1 \n",
    "Ts3 = computeTs(a3)\n",
    "print(\"Albedo: \" + str(a3) + \", Ts = \" + str(Ts3))"
   ]
  },
  {
   "cell_type": "markdown",
   "id": "1afcd99b-993d-4b90-b3f2-73ac79dc5f00",
   "metadata": {},
   "source": [
    "After writing this, I realized that I'm copy-pasting the same thing over and over again for the print statement--that means we can also put all of that into a function that displays the output of our calculation nicely!"
   ]
  },
  {
   "cell_type": "code",
   "execution_count": 32,
   "id": "ae1c14b6-7ca8-42ea-baec-3caa0c1247b3",
   "metadata": {},
   "outputs": [],
   "source": [
    "def printTs(a):\n",
    "    Ts = computeTs(a)\n",
    "    print(\"Albedo: \" + str(a) + \", Ts = \" + str(Ts))"
   ]
  },
  {
   "cell_type": "markdown",
   "id": "cc01beca-b40c-4f71-b4b8-7a16136f7ece",
   "metadata": {},
   "source": [
    "Now we have a very efficient way of testing our function:"
   ]
  },
  {
   "cell_type": "code",
   "execution_count": 33,
   "id": "6452c1c1-0afb-4987-846a-26ff43d87ecd",
   "metadata": {},
   "outputs": [
    {
     "name": "stdout",
     "output_type": "stream",
     "text": [
      "Albedo: 0, Ts = 331.35144205819955 kelvin\n",
      "Albedo: 0.25, Ts = 308.3572620498483 kelvin\n",
      "Albedo: 0.5, Ts = 278.6322398158889 kelvin\n",
      "Albedo: 0.75, Ts = 234.30085163529426 kelvin\n",
      "Albedo: 1, Ts = 0.0 kelvin\n"
     ]
    }
   ],
   "source": [
    "printTs(0)\n",
    "printTs(0.25)\n",
    "printTs(0.5)\n",
    "printTs(0.75)\n",
    "printTs(1)"
   ]
  },
  {
   "cell_type": "markdown",
   "id": "165fc7a0-8cbe-4188-bee7-affc316457ad",
   "metadata": {},
   "source": [
    "Are these results what we would expect? Yes, because as albedo (the amount of solar energy reflected back into space) increases, we get cooler and cooler surface temperatures. If all the sunlight is reflected back into space and no solar energy is absorbed (for a = 1), we would expect a surface temperature of 0. "
   ]
  },
  {
   "cell_type": "markdown",
   "id": "731d47a2-b0a9-4e88-8ebb-bf0ce4e57337",
   "metadata": {},
   "source": [
    "In the next lesson, we will learn how to store the output of functions like these into data structures called **arrays**."
   ]
  },
  {
   "cell_type": "markdown",
   "id": "0450779b-f6bb-4024-93d8-baa253b6d50d",
   "metadata": {},
   "source": [
    "## Final Notes"
   ]
  },
  {
   "cell_type": "markdown",
   "id": "9245e6dd-a144-4913-99cd-79b5b60a7aac",
   "metadata": {},
   "source": [
    "**When in doubt, Google it!** Seriously, you're not expected to remember the exact syntax for calling and using each of the functions we've covered here. The goal of this course is to build your programming intuition--to get you to a point where, once you know what you want to do, you can easily develop a rough idea of how the computer can achieve it and look up the details. Although each programming language has its own unique syntax, the fundamentals are consistent. Think of it like speaking in a new language: if you already speak one language, you are comfortable communicating with words and know what you want to say--you just don't know the exact grammar and vocabulary for saying it in a new language. Translating once you already know what you want to say is fairly straightforward, but you have to start somewhere! Skills and intuition are similarly transferable across programming languages, and Python is a great place to start. In fact, with how popular Python is becoming in our field and how powerful it is, you might never even have to use anything else."
   ]
  },
  {
   "cell_type": "markdown",
   "id": "fbec10a8-43f0-4a24-a8f9-9c382021fefa",
   "metadata": {},
   "source": [
    "So, **how do you effectively use Google and other resources** when you're coding? Googling a coding question will most likely lead you to these two main resources:\n",
    "* **Official Documentation**: Information on the developer's website on what functions exist and how to use them. Think of it like an official user's manual. Libraries with good documentation will have examples (e.g. https://unidata.github.io/MetPy/latest/examples/index.html for Metpy).\n",
    "* **Stack Overflow**: An online forum where anyone can ask and answer coding questions. Think Yahoo Answers/Quora for programmers. For example, here's a helpful thread I found when I Googled \"How to generate random numbers in Python\": https://stackoverflow.com/questions/2673385/how-to-generate-a-random-number-with-a-specific-amount-of-digits\n",
    "\n",
    "Some languages and tools, like MATLAB have their own moderated, official community forum where users can ask questions. Also note that **AI tools like ChatGPT** are trained on Stack Overflow data and can aggregate the information from Stack Overflow to generate efficient answers to programming questions. ChatGPT can also write and debug code (though it often contains mistakes). When you're trying a new module for the first time and getting used to the functions and syntax, you might find ChatGPT helpful as a starting point. Try asking ChatGPT or any other AI chatbot \"How do I generate a random number in Python?\""
   ]
  },
  {
   "cell_type": "markdown",
   "id": "ab705b05-cc13-4d8b-afc9-94eb180779dd",
   "metadata": {},
   "source": [
    "As a geoscientist using programming for data visualization and scientific computing, **coding is just a means to an end.** Unlike computer scientists, we don't have to engineer the most fancy architecture or find the most optimized solution. Focus on being practical and efficient!"
   ]
  },
  {
   "cell_type": "code",
   "execution_count": null,
   "id": "00240f7b-a44e-49d4-bbb9-c56f0d42d095",
   "metadata": {},
   "outputs": [],
   "source": []
  }
 ],
 "metadata": {
  "kernelspec": {
   "display_name": "Python 3 (ipykernel)",
   "language": "python",
   "name": "python3"
  },
  "language_info": {
   "codemirror_mode": {
    "name": "ipython",
    "version": 3
   },
   "file_extension": ".py",
   "mimetype": "text/x-python",
   "name": "python",
   "nbconvert_exporter": "python",
   "pygments_lexer": "ipython3",
   "version": "3.8.16"
  }
 },
 "nbformat": 4,
 "nbformat_minor": 5
}
